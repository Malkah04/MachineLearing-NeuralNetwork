{
 "cells": [
  {
   "cell_type": "code",
   "execution_count": null,
   "id": "053a9f45",
   "metadata": {},
   "outputs": [
    {
     "name": "stderr",
     "output_type": "stream",
     "text": [
      "/home/malak/.local/lib/python3.10/site-packages/matplotlib/projections/__init__.py:63: UserWarning: Unable to import Axes3D. This may be due to multiple versions of Matplotlib being installed (e.g. as a system package and as a pip package). As a result, the 3D projection is not available.\n",
      "  warnings.warn(\"Unable to import Axes3D. This may be due to multiple versions of \"\n"
     ]
    }
   ],
   "source": [
    "import matplotlib.pyplot as plt  \n",
    "# for visialization"
   ]
  },
  {
   "cell_type": "code",
   "execution_count": 4,
   "id": "0ec85ff6",
   "metadata": {},
   "outputs": [
    {
     "name": "stderr",
     "output_type": "stream",
     "text": [
      "/tmp/ipykernel_23841/797881064.py:5: UserWarning: No artists with labels found to put in legend.  Note that artists whose label start with an underscore are ignored when legend() is called with no argument.\n",
      "  plt.legend()\n"
     ]
    },
    {
     "data": {
      "image/png": "[encoded data removed]",
      "text/plain": [
       "<Figure size 432x288 with 1 Axes>"
      ]
     },
     "metadata": {
      "needs_background": "light"
     },
     "output_type": "display_data"
    }
   ],
   "source": [
    "plt.plot([1,2,3,4] ,[10,20,30,40])\n",
    "plt.title(\"line\")\n",
    "plt.xlabel(\"x axis\")\n",
    "plt.ylabel(\"y axis\")\n",
    "plt.legend()\n",
    "plt.show()"
   ]
  },
  {
   "cell_type": "code",
   "execution_count": null,
   "id": "92a382a8",
   "metadata": {},
   "outputs": [],
   "source": [
    "plt.scatter([1,2,3,4] ,[10,20,30,40] ,color =\"red\")\n",
    "plt.title(\"point\")\n",
    "plt.xlabel(\"x-axis\")\n",
    "plt.ylabel(\"y-axis\")\n",
    "plt.grid(True)\n",
    "plt.show()\n"
   ]
  },
  {
   "cell_type": "markdown",
   "id": "6b868c19",
   "metadata": {},
   "source": [
    "SubPlot\n"
   ]
  },
  {
   "cell_type": "code",
   "execution_count": null,
   "id": "0fa8a33d",
   "metadata": {},
   "outputs": [],
   "source": [
    "# 2 row , 1 col , fig size is just the size\n",
    "fig ,axis =plt.subplots(2,1 ,figsize=(8,5))\n",
    "# the first drawer \n",
    "# b-o is blue color , circle point\n",
    "axis[0].plot([1,2,3,4] ,[10,20,30,40] ,\"b-o\")\n",
    "axis[0].set_title(\"drawer1\")\n",
    "axis[0].set_xlabel(\"x1-axis\")\n",
    "axis[0].set_ylabel(\"y1-axis\")\n",
    "\n",
    "# the sec drawer \n",
    "axis[1].scatter([1,2,3,4] ,[10,20,30,40] ,color =\"red\")\n",
    "axis[1].set_title(\"drawer2\")\n",
    "axis[1].set_xlabel(\"x2-axis\")\n",
    "axis[1].set_ylabel(\"y2_axis\")\n",
    "\n",
    "\n",
    "# to save the drawer\n",
    "plt.savefig(\"plt_ss.png\")\n",
    "\n",
    "plt.show()"
   ]
  },
  {
   "cell_type": "markdown",
   "id": "64324363",
   "metadata": {},
   "source": [
    "histogram"
   ]
  },
  {
   "cell_type": "code",
   "execution_count": null,
   "id": "49a0403d",
   "metadata": {},
   "outputs": [],
   "source": [
    "data =[1,2,3,4,1,2,3,4,1,2,3,4,4]\n",
    "\n",
    "plt.hist(data ,color=\"green\")\n",
    "plt.ylabel(\"freq\")\n",
    "plt.xlabel(\"number\")\n",
    "\n",
    "plt.show()"
   ]
  },
  {
   "cell_type": "markdown",
   "id": "0e6d5489",
   "metadata": {},
   "source": [
    "Box plot"
   ]
  },
  {
   "cell_type": "code",
   "execution_count": null,
   "id": "a6c5bd1d",
   "metadata": {},
   "outputs": [],
   "source": [
    "plt.boxplot(data)\n",
    "plt.ylabel(\"values\")\n",
    "plt.xlabel(\"freq\")\n",
    "plt.show()"
   ]
  },
  {
   "cell_type": "markdown",
   "id": "3cd63958",
   "metadata": {},
   "source": [
    "pie chart"
   ]
  },
  {
   "cell_type": "code",
   "execution_count": null,
   "id": "e4534b11",
   "metadata": {},
   "outputs": [],
   "source": [
    "labels =[\"CS417\" ,\"CS415\" ,\"CS426\" ,\"CS401\" ,\"CS403\"]\n",
    "d =[\"30\" ,\"5\" ,\"40\" ,\"15\" ,\"10\"]\n",
    "colors =[\"green\",\"red\",\"pink\" ,\"blue\",\"yellow\"]\n",
    "explode =(0 ,0,0.1,0,0)\n",
    "\n",
    "plt.pie(d,labels=labels ,colors=colors ,explode=explode ,shadow=True)\n",
    "plt.title(\"lovely subject\")\n",
    "plt.show"
   ]
  }
 ],
 "metadata": {
  "kernelspec": {
   "display_name": "Python 3",
   "language": "python",
   "name": "python3"
  },
  "language_info": {
   "codemirror_mode": {
    "name": "ipython",
    "version": 3
   },
   "file_extension": ".py",
   "mimetype": "text/x-python",
   "name": "python",
   "nbconvert_exporter": "python",
   "pygments_lexer": "ipython3",
   "version": "3.10.12"
  }
 },
 "nbformat": 4,
 "nbformat_minor": 5
}
