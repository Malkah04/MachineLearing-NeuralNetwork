{
 "cells": [
  {
   "cell_type": "code",
   "execution_count": 1,
   "id": "1fc26134",
   "metadata": {},
   "outputs": [],
   "source": [
    "import pandas as pd"
   ]
  },
  {
   "cell_type": "markdown",
   "id": "b14dc634",
   "metadata": {},
   "source": [
    "# Confirt dictionary to dataframe "
   ]
  },
  {
   "cell_type": "code",
   "execution_count": 35,
   "id": "79199be3",
   "metadata": {},
   "outputs": [
    {
     "name": "stdout",
     "output_type": "stream",
     "text": [
      "    name  age   city\n",
      "0  malak   20   giza\n",
      "1  walaa   21  m3ady\n",
      "2  menna   40    oct\n"
     ]
    }
   ],
   "source": [
    "data = {\n",
    "    'name':[\"malak\" ,\"walaa\" ,\"menna\"],\n",
    "    'age':[20,21 ,40],\n",
    "    \"city\":[\"giza\",\"m3ady\" ,\"oct\"]\n",
    "}\n",
    "df =pd.DataFrame(data)\n",
    "print(df)"
   ]
  },
  {
   "cell_type": "code",
   "execution_count": 11,
   "id": "a9c44b4a",
   "metadata": {},
   "outputs": [
    {
     "name": "stdout",
     "output_type": "stream",
     "text": [
      "   CustomerID  Age  Gender     CostPaid  ServiceUsageCount  QualityOfService  \\\n",
      "0           1   38  Female   749.097626                 24                 2   \n",
      "1           2   30    Male   735.224916                 18                 5   \n",
      "2           3   55    Male  1145.520305                 22                 3   \n",
      "3           4   39  Female   925.460535                 14                 4   \n",
      "4           5   51    Male   108.359916                  9                 3   \n",
      "\n",
      "   SpeedOfService  StaffHelpfulness  WebsiteEaseOfAccess NeedToRevisit  \\\n",
      "0               1                 3                    5            No   \n",
      "1               4                 4                    5           Yes   \n",
      "2               5                 4                    1            No   \n",
      "3               3                 2                    4           Yes   \n",
      "4               3                 2                    5           Yes   \n",
      "\n",
      "   DiscountUsage RegularUser  OverallSatisfaction SatisfactionCategory  \n",
      "0     135.392573          No                 2.75              Average  \n",
      "1     193.450663         Yes                 4.50            Excellent  \n",
      "2     147.246263         Yes                 3.25              Average  \n",
      "3      56.362894         Yes                 3.25              Average  \n",
      "4     338.731055          No                 3.25              Average  \n",
      "     CustomerID  Age  Gender     CostPaid  ServiceUsageCount  \\\n",
      "495         496   25  Female  1331.673244                  2   \n",
      "496         497   53    Male  1031.814050                  2   \n",
      "497         498   42  Female  1554.718256                 26   \n",
      "498         499   35    Male  1744.891965                 11   \n",
      "499         500   60    Male   110.985526                 14   \n",
      "\n",
      "     QualityOfService  SpeedOfService  StaffHelpfulness  WebsiteEaseOfAccess  \\\n",
      "495                 1               4                 5                    5   \n",
      "496                 3               3                 1                    3   \n",
      "497                 5               1                 2                    3   \n",
      "498                 2               2                 3                    2   \n",
      "499                 3               5                 1                    4   \n",
      "\n",
      "    NeedToRevisit  DiscountUsage RegularUser  OverallSatisfaction  \\\n",
      "495            No     483.526690          No                 3.75   \n",
      "496            No     372.031011         Yes                 2.50   \n",
      "497            No     373.020405          No                 2.75   \n",
      "498           Yes     414.246263          No                 2.25   \n",
      "499            No      85.895089         Yes                 3.25   \n",
      "\n",
      "    SatisfactionCategory  \n",
      "495            Excellent  \n",
      "496              Average  \n",
      "497              Average  \n",
      "498              Average  \n",
      "499              Average  \n"
     ]
    }
   ],
   "source": [
    "read_file =pd.read_csv(\"your_data_with_revisit.csv\")\n",
    "print(read_file.head())\n",
    "print(read_file.tail())"
   ]
  },
  {
   "cell_type": "code",
   "execution_count": 15,
   "id": "33aa2fcc",
   "metadata": {},
   "outputs": [
    {
     "name": "stdout",
     "output_type": "stream",
     "text": [
      "<class 'pandas.core.frame.DataFrame'>\n",
      "RangeIndex: 500 entries, 0 to 499\n",
      "Data columns (total 14 columns):\n",
      " #   Column                Non-Null Count  Dtype  \n",
      "---  ------                --------------  -----  \n",
      " 0   CustomerID            500 non-null    int64  \n",
      " 1   Age                   500 non-null    int64  \n",
      " 2   Gender                500 non-null    object \n",
      " 3   CostPaid              500 non-null    float64\n",
      " 4   ServiceUsageCount     500 non-null    int64  \n",
      " 5   QualityOfService      500 non-null    int64  \n",
      " 6   SpeedOfService        500 non-null    int64  \n",
      " 7   StaffHelpfulness      500 non-null    int64  \n",
      " 8   WebsiteEaseOfAccess   500 non-null    int64  \n",
      " 9   NeedToRevisit         500 non-null    object \n",
      " 10  DiscountUsage         500 non-null    float64\n",
      " 11  RegularUser           500 non-null    object \n",
      " 12  OverallSatisfaction   500 non-null    float64\n",
      " 13  SatisfactionCategory  500 non-null    object \n",
      "dtypes: float64(3), int64(7), object(4)\n",
      "memory usage: 54.8+ KB\n"
     ]
    }
   ],
   "source": [
    "# (read_file.describe())\n",
    "\n",
    "read_file.info()"
   ]
  },
  {
   "cell_type": "markdown",
   "id": "6b25538a",
   "metadata": {},
   "source": [
    "## CLEAN DATA\n"
   ]
  },
  {
   "cell_type": "markdown",
   "id": "9a7f9fe9",
   "metadata": {},
   "source": [
    "1) handle missing values"
   ]
  },
  {
   "cell_type": "code",
   "execution_count": 1,
   "id": "30690e8f",
   "metadata": {},
   "outputs": [
    {
     "ename": "NameError",
     "evalue": "name 'df' is not defined",
     "output_type": "error",
     "traceback": [
      "\u001b[0;31m---------------------------------------------------------------------------\u001b[0m",
      "\u001b[0;31mNameError\u001b[0m                                 Traceback (most recent call last)",
      "\u001b[0;32m/tmp/ipykernel_25156/1599078878.py\u001b[0m in \u001b[0;36m<module>\u001b[0;34m\u001b[0m\n\u001b[0;32m----> 1\u001b[0;31m \u001b[0mdf\u001b[0m\u001b[0;34m[\u001b[0m\u001b[0;34m'age'\u001b[0m\u001b[0;34m]\u001b[0m\u001b[0;34m.\u001b[0m\u001b[0mfillna\u001b[0m\u001b[0;34m(\u001b[0m\u001b[0mdf\u001b[0m\u001b[0;34m[\u001b[0m\u001b[0;34m'age'\u001b[0m\u001b[0;34m]\u001b[0m\u001b[0;34m.\u001b[0m\u001b[0mmean\u001b[0m\u001b[0;34m(\u001b[0m\u001b[0;34m)\u001b[0m \u001b[0;34m,\u001b[0m \u001b[0minplace\u001b[0m\u001b[0;34m=\u001b[0m\u001b[0;32mTrue\u001b[0m\u001b[0;34m)\u001b[0m\u001b[0;34m\u001b[0m\u001b[0;34m\u001b[0m\u001b[0m\n\u001b[0m",
      "\u001b[0;31mNameError\u001b[0m: name 'df' is not defined"
     ]
    }
   ],
   "source": [
    "df['age'].fillna(df['age'].mean() , inplace=True)"
   ]
  },
  {
   "cell_type": "markdown",
   "id": "cc869606",
   "metadata": {},
   "source": [
    "2) drop null  , drop row if the "
   ]
  },
  {
   "cell_type": "code",
   "execution_count": null,
   "id": "8b727f18",
   "metadata": {},
   "outputs": [],
   "source": [
    "df.dropna(subset=\"age\" ,inplace=True)\n"
   ]
  },
  {
   "cell_type": "markdown",
   "id": "810ddad7",
   "metadata": {},
   "source": [
    "3) drop duplicates"
   ]
  },
  {
   "cell_type": "code",
   "execution_count": null,
   "id": "660a75fd",
   "metadata": {},
   "outputs": [],
   "source": [
    "df.drop_duplicates(inplace=True)"
   ]
  },
  {
   "cell_type": "markdown",
   "id": "6cc2bfa2",
   "metadata": {},
   "source": [
    "4) rename col "
   ]
  },
  {
   "cell_type": "code",
   "execution_count": null,
   "id": "c37c8c0f",
   "metadata": {},
   "outputs": [
    {
     "name": "stdout",
     "output_type": "stream",
     "text": [
      "    name  age location\n",
      "0  malak   20     giza\n",
      "1  walaa   21    m3ady\n",
      "2  menna   40      oct\n"
     ]
    }
   ],
   "source": [
    "df.rename(columns={'city':\"location\"} ,inplace=True)\n",
    "\n",
    "print(df)"
   ]
  },
  {
   "cell_type": "markdown",
   "id": "c8fbecff",
   "metadata": {},
   "source": [
    "apply function to col"
   ]
  },
  {
   "cell_type": "code",
   "execution_count": null,
   "id": "e2fada79",
   "metadata": {},
   "outputs": [
    {
     "name": "stdout",
     "output_type": "stream",
     "text": [
      "    name  age  location_giza  location_m3ady  location_oct\n",
      "0  malak   21           True           False         False\n",
      "1  walaa   22          False            True         False\n",
      "2  menna   41          False           False          True\n"
     ]
    }
   ],
   "source": [
    "df['age']= df['age'].apply(lambda x:x +1)\n",
    "print(df)\n",
    "\n"
   ]
  },
  {
   "cell_type": "markdown",
   "id": "24d4d5ff",
   "metadata": {},
   "source": [
    "# binning data ??????"
   ]
  },
  {
   "cell_type": "code",
   "execution_count": 43,
   "id": "971e8fab",
   "metadata": {},
   "outputs": [],
   "source": [
    "df['age_group'] = pd.cut(df['age'] , bins=[20,30,40] ,labels= ['20-30' ,\"30,40\"])"
   ]
  },
  {
   "cell_type": "markdown",
   "id": "27fd1d44",
   "metadata": {},
   "source": [
    "# one hot encoding , dummies (convert text to numbers)"
   ]
  },
  {
   "cell_type": "code",
   "execution_count": 42,
   "id": "430052c1",
   "metadata": {},
   "outputs": [
    {
     "ename": "KeyError",
     "evalue": "\"None of [Index(['location'], dtype='object')] are in the [columns]\"",
     "output_type": "error",
     "traceback": [
      "\u001b[0;31m---------------------------------------------------------------------------\u001b[0m",
      "\u001b[0;31mKeyError\u001b[0m                                  Traceback (most recent call last)",
      "\u001b[0;32m/tmp/ipykernel_5692/1118742252.py\u001b[0m in \u001b[0;36m<module>\u001b[0;34m\u001b[0m\n\u001b[0;32m----> 1\u001b[0;31m \u001b[0mdf\u001b[0m \u001b[0;34m=\u001b[0m\u001b[0mpd\u001b[0m\u001b[0;34m.\u001b[0m\u001b[0mget_dummies\u001b[0m\u001b[0;34m(\u001b[0m\u001b[0mdf\u001b[0m\u001b[0;34m,\u001b[0m\u001b[0mcolumns\u001b[0m\u001b[0;34m=\u001b[0m\u001b[0;34m[\u001b[0m\u001b[0;34m'location'\u001b[0m\u001b[0;34m]\u001b[0m\u001b[0;34m)\u001b[0m\u001b[0;34m\u001b[0m\u001b[0;34m\u001b[0m\u001b[0m\n\u001b[0m\u001b[1;32m      2\u001b[0m \u001b[0;34m\u001b[0m\u001b[0m\n\u001b[1;32m      3\u001b[0m \u001b[0mprint\u001b[0m\u001b[0;34m(\u001b[0m\u001b[0mdf\u001b[0m\u001b[0;34m)\u001b[0m\u001b[0;34m\u001b[0m\u001b[0;34m\u001b[0m\u001b[0m\n",
      "\u001b[0;32m~/.local/lib/python3.10/site-packages/pandas/core/reshape/encoding.py\u001b[0m in \u001b[0;36mget_dummies\u001b[0;34m(data, prefix, prefix_sep, dummy_na, columns, sparse, drop_first, dtype)\u001b[0m\n\u001b[1;32m    168\u001b[0m             \u001b[0;32mraise\u001b[0m \u001b[0mTypeError\u001b[0m\u001b[0;34m(\u001b[0m\u001b[0;34m\"Input must be a list-like for parameter `columns`\"\u001b[0m\u001b[0;34m)\u001b[0m\u001b[0;34m\u001b[0m\u001b[0;34m\u001b[0m\u001b[0m\n\u001b[1;32m    169\u001b[0m         \u001b[0;32melse\u001b[0m\u001b[0;34m:\u001b[0m\u001b[0;34m\u001b[0m\u001b[0;34m\u001b[0m\u001b[0m\n\u001b[0;32m--> 170\u001b[0;31m             \u001b[0mdata_to_encode\u001b[0m \u001b[0;34m=\u001b[0m \u001b[0mdata\u001b[0m\u001b[0;34m[\u001b[0m\u001b[0mcolumns\u001b[0m\u001b[0;34m]\u001b[0m\u001b[0;34m\u001b[0m\u001b[0;34m\u001b[0m\u001b[0m\n\u001b[0m\u001b[1;32m    171\u001b[0m \u001b[0;34m\u001b[0m\u001b[0m\n\u001b[1;32m    172\u001b[0m         \u001b[0;31m# validate prefixes and separator to avoid silently dropping cols\u001b[0m\u001b[0;34m\u001b[0m\u001b[0;34m\u001b[0m\u001b[0m\n",
      "\u001b[0;32m~/.local/lib/python3.10/site-packages/pandas/core/frame.py\u001b[0m in \u001b[0;36m__getitem__\u001b[0;34m(self, key)\u001b[0m\n\u001b[1;32m   4111\u001b[0m             \u001b[0;32mif\u001b[0m \u001b[0mis_iterator\u001b[0m\u001b[0;34m(\u001b[0m\u001b[0mkey\u001b[0m\u001b[0;34m)\u001b[0m\u001b[0;34m:\u001b[0m\u001b[0;34m\u001b[0m\u001b[0;34m\u001b[0m\u001b[0m\n\u001b[1;32m   4112\u001b[0m                 \u001b[0mkey\u001b[0m \u001b[0;34m=\u001b[0m \u001b[0mlist\u001b[0m\u001b[0;34m(\u001b[0m\u001b[0mkey\u001b[0m\u001b[0;34m)\u001b[0m\u001b[0;34m\u001b[0m\u001b[0;34m\u001b[0m\u001b[0m\n\u001b[0;32m-> 4113\u001b[0;31m             \u001b[0mindexer\u001b[0m \u001b[0;34m=\u001b[0m \u001b[0mself\u001b[0m\u001b[0;34m.\u001b[0m\u001b[0mcolumns\u001b[0m\u001b[0;34m.\u001b[0m\u001b[0m_get_indexer_strict\u001b[0m\u001b[0;34m(\u001b[0m\u001b[0mkey\u001b[0m\u001b[0;34m,\u001b[0m \u001b[0;34m\"columns\"\u001b[0m\u001b[0;34m)\u001b[0m\u001b[0;34m[\u001b[0m\u001b[0;36m1\u001b[0m\u001b[0;34m]\u001b[0m\u001b[0;34m\u001b[0m\u001b[0;34m\u001b[0m\u001b[0m\n\u001b[0m\u001b[1;32m   4114\u001b[0m \u001b[0;34m\u001b[0m\u001b[0m\n\u001b[1;32m   4115\u001b[0m         \u001b[0;31m# take() does not accept boolean indexers\u001b[0m\u001b[0;34m\u001b[0m\u001b[0;34m\u001b[0m\u001b[0m\n",
      "\u001b[0;32m~/.local/lib/python3.10/site-packages/pandas/core/indexes/base.py\u001b[0m in \u001b[0;36m_get_indexer_strict\u001b[0;34m(self, key, axis_name)\u001b[0m\n\u001b[1;32m   6210\u001b[0m             \u001b[0mkeyarr\u001b[0m\u001b[0;34m,\u001b[0m \u001b[0mindexer\u001b[0m\u001b[0;34m,\u001b[0m \u001b[0mnew_indexer\u001b[0m \u001b[0;34m=\u001b[0m \u001b[0mself\u001b[0m\u001b[0;34m.\u001b[0m\u001b[0m_reindex_non_unique\u001b[0m\u001b[0;34m(\u001b[0m\u001b[0mkeyarr\u001b[0m\u001b[0;34m)\u001b[0m\u001b[0;34m\u001b[0m\u001b[0;34m\u001b[0m\u001b[0m\n\u001b[1;32m   6211\u001b[0m \u001b[0;34m\u001b[0m\u001b[0m\n\u001b[0;32m-> 6212\u001b[0;31m         \u001b[0mself\u001b[0m\u001b[0;34m.\u001b[0m\u001b[0m_raise_if_missing\u001b[0m\u001b[0;34m(\u001b[0m\u001b[0mkeyarr\u001b[0m\u001b[0;34m,\u001b[0m \u001b[0mindexer\u001b[0m\u001b[0;34m,\u001b[0m \u001b[0maxis_name\u001b[0m\u001b[0;34m)\u001b[0m\u001b[0;34m\u001b[0m\u001b[0;34m\u001b[0m\u001b[0m\n\u001b[0m\u001b[1;32m   6213\u001b[0m \u001b[0;34m\u001b[0m\u001b[0m\n\u001b[1;32m   6214\u001b[0m         \u001b[0mkeyarr\u001b[0m \u001b[0;34m=\u001b[0m \u001b[0mself\u001b[0m\u001b[0;34m.\u001b[0m\u001b[0mtake\u001b[0m\u001b[0;34m(\u001b[0m\u001b[0mindexer\u001b[0m\u001b[0;34m)\u001b[0m\u001b[0;34m\u001b[0m\u001b[0;34m\u001b[0m\u001b[0m\n",
      "\u001b[0;32m~/.local/lib/python3.10/site-packages/pandas/core/indexes/base.py\u001b[0m in \u001b[0;36m_raise_if_missing\u001b[0;34m(self, key, indexer, axis_name)\u001b[0m\n\u001b[1;32m   6259\u001b[0m         \u001b[0;32mif\u001b[0m \u001b[0mnmissing\u001b[0m\u001b[0;34m:\u001b[0m\u001b[0;34m\u001b[0m\u001b[0;34m\u001b[0m\u001b[0m\n\u001b[1;32m   6260\u001b[0m             \u001b[0;32mif\u001b[0m \u001b[0mnmissing\u001b[0m \u001b[0;34m==\u001b[0m \u001b[0mlen\u001b[0m\u001b[0;34m(\u001b[0m\u001b[0mindexer\u001b[0m\u001b[0;34m)\u001b[0m\u001b[0;34m:\u001b[0m\u001b[0;34m\u001b[0m\u001b[0;34m\u001b[0m\u001b[0m\n\u001b[0;32m-> 6261\u001b[0;31m                 \u001b[0;32mraise\u001b[0m \u001b[0mKeyError\u001b[0m\u001b[0;34m(\u001b[0m\u001b[0;34mf\"None of [{key}] are in the [{axis_name}]\"\u001b[0m\u001b[0;34m)\u001b[0m\u001b[0;34m\u001b[0m\u001b[0;34m\u001b[0m\u001b[0m\n\u001b[0m\u001b[1;32m   6262\u001b[0m \u001b[0;34m\u001b[0m\u001b[0m\n\u001b[1;32m   6263\u001b[0m             \u001b[0mnot_found\u001b[0m \u001b[0;34m=\u001b[0m \u001b[0mlist\u001b[0m\u001b[0;34m(\u001b[0m\u001b[0mensure_index\u001b[0m\u001b[0;34m(\u001b[0m\u001b[0mkey\u001b[0m\u001b[0;34m)\u001b[0m\u001b[0;34m[\u001b[0m\u001b[0mmissing_mask\u001b[0m\u001b[0;34m.\u001b[0m\u001b[0mnonzero\u001b[0m\u001b[0;34m(\u001b[0m\u001b[0;34m)\u001b[0m\u001b[0;34m[\u001b[0m\u001b[0;36m0\u001b[0m\u001b[0;34m]\u001b[0m\u001b[0;34m]\u001b[0m\u001b[0;34m.\u001b[0m\u001b[0munique\u001b[0m\u001b[0;34m(\u001b[0m\u001b[0;34m)\u001b[0m\u001b[0;34m)\u001b[0m\u001b[0;34m\u001b[0m\u001b[0;34m\u001b[0m\u001b[0m\n",
      "\u001b[0;31mKeyError\u001b[0m: \"None of [Index(['location'], dtype='object')] are in the [columns]\""
     ]
    }
   ],
   "source": [
    "df =pd.get_dummies(df,columns=['location'])\n",
    "\n",
    "print(df)"
   ]
  }
 ],
 "metadata": {
  "kernelspec": {
   "display_name": "Python 3",
   "language": "python",
   "name": "python3"
  },
  "language_info": {
   "codemirror_mode": {
    "name": "ipython",
    "version": 3
   },
   "file_extension": ".py",
   "mimetype": "text/x-python",
   "name": "python",
   "nbconvert_exporter": "python",
   "pygments_lexer": "ipython3",
   "version": "3.10.12"
  }
 },
 "nbformat": 4,
 "nbformat_minor": 5
}
