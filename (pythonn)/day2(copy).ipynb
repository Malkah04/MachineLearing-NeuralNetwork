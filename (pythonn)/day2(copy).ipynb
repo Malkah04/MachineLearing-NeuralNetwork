{
 "cells": [
  {
   "cell_type": "code",
   "execution_count": null,
   "id": "112c37a8",
   "metadata": {},
   "outputs": [],
   "source": [
    "import copy\n"
   ]
  },
  {
   "cell_type": "code",
   "execution_count": 3,
   "id": "2aca0a6d",
   "metadata": {},
   "outputs": [
    {
     "name": "stdout",
     "output_type": "stream",
     "text": [
      "copy 30\n",
      "A 30\n"
     ]
    }
   ],
   "source": [
    "A =[[90,80 ,70] ,[95,56,98]]\n",
    "# any update in the source item , it reflect to the copy item\n",
    "# and vice vice\n",
    "res_b =copy.copy(A)\n",
    "\n",
    "res_b[0][0]=30\n",
    "\n",
    "print( \"copy\", res_b[0][0])\n",
    "\n",
    "print( \"A\" , A[0][0])\n",
    "\n"
   ]
  },
  {
   "cell_type": "code",
   "execution_count": null,
   "id": "c8258465",
   "metadata": {},
   "outputs": [
    {
     "name": "stdout",
     "output_type": "stream",
     "text": [
      "copy 20\n",
      "a 30\n"
     ]
    }
   ],
   "source": [
    "import copy\n",
    "# any update in deepcopy will not reflect to the original\n",
    "deep_b = copy.deepcopy(A)\n",
    "deep_b[0][0]=20\n",
    "print(\"copy\",deep_b[0][0])\n",
    "print('a',A[0][0])"
   ]
  },
  {
   "cell_type": "code",
   "execution_count": null,
   "id": "74227884",
   "metadata": {},
   "outputs": [],
   "source": []
  }
 ],
 "metadata": {
  "kernelspec": {
   "display_name": "Python 3",
   "language": "python",
   "name": "python3"
  },
  "language_info": {
   "codemirror_mode": {
    "name": "ipython",
    "version": 3
   },
   "file_extension": ".py",
   "mimetype": "text/x-python",
   "name": "python",
   "nbconvert_exporter": "python",
   "pygments_lexer": "ipython3",
   "version": "3.10.12"
  }
 },
 "nbformat": 4,
 "nbformat_minor": 5
}
