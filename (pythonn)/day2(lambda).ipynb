{
 "cells": [
  {
   "cell_type": "code",
   "execution_count": 1,
   "id": "7f8b5d5e",
   "metadata": {},
   "outputs": [
    {
     "name": "stdout",
     "output_type": "stream",
     "text": [
      "45\n"
     ]
    }
   ],
   "source": [
    "#  instead of write fun \n",
    "# we use lambda\n",
    "\n",
    "def add_5(x):\n",
    "    return x+5\n",
    "\n",
    "res= add_5(40)\n",
    "print(res)\n"
   ]
  },
  {
   "cell_type": "code",
   "execution_count": null,
   "id": "7983c0bc",
   "metadata": {},
   "outputs": [
    {
     "name": "stdout",
     "output_type": "stream",
     "text": [
      "45\n"
     ]
    }
   ],
   "source": [
    "# here r is the function\n",
    "r =lambda x:x+5\n",
    "res=r(40)\n",
    "print(res)"
   ]
  },
  {
   "cell_type": "code",
   "execution_count": null,
   "id": "e8183efd",
   "metadata": {},
   "outputs": [
    {
     "name": "stdout",
     "output_type": "stream",
     "text": [
      "300\n"
     ]
    }
   ],
   "source": [
    "def mut(a,b):\n",
    "    return a*b\n",
    "\n",
    "# make it using lambda\n",
    "\n",
    "mult =lambda a,b:a*b\n",
    "\n",
    "print(mult(30,10))"
   ]
  },
  {
   "cell_type": "code",
   "execution_count": 4,
   "id": "c1c61769",
   "metadata": {},
   "outputs": [
    {
     "name": "stdout",
     "output_type": "stream",
     "text": [
      "32\n"
     ]
    }
   ],
   "source": [
    "exp =lambda a,b:a**b\n",
    "print(exp(2,5))"
   ]
  },
  {
   "cell_type": "code",
   "execution_count": null,
   "id": "a398561b",
   "metadata": {},
   "outputs": [
    {
     "data": {
      "text/plain": [
       "[1, 4, 9, 16, 25]"
      ]
     },
     "execution_count": 5,
     "metadata": {},
     "output_type": "execute_result"
    }
   ],
   "source": [
    "#  map take func and list and return list\n",
    "l =[1,2,3,4,5]\n",
    "list(map(lambda x:x**2 ,l))"
   ]
  },
  {
   "cell_type": "code",
   "execution_count": null,
   "id": "4b647ffa",
   "metadata": {},
   "outputs": [
    {
     "name": "stdout",
     "output_type": "stream",
     "text": [
      "[12, 15]\n"
     ]
    }
   ],
   "source": [
    "# filter\n",
    "res1 =list(filter(lambda x:x>10 , [1,10,3,5,12,15]))\n",
    "print(res1)"
   ]
  },
  {
   "cell_type": "code",
   "execution_count": null,
   "id": "2283cc8b",
   "metadata": {},
   "outputs": [
    {
     "name": "stdout",
     "output_type": "stream",
     "text": [
      "120\n"
     ]
    }
   ],
   "source": [
    "# reduce\n",
    "# بتضرب الارري في بعضها\n",
    "from functools import reduce\n",
    "print(reduce(lambda a,b:a*b ,l))"
   ]
  },
  {
   "cell_type": "code",
   "execution_count": 8,
   "id": "96bbbde6",
   "metadata": {},
   "outputs": [
    {
     "name": "stdout",
     "output_type": "stream",
     "text": [
      "15\n"
     ]
    }
   ],
   "source": [
    "print(reduce(lambda a,b:a+b ,l))"
   ]
  },
  {
   "cell_type": "code",
   "execution_count": null,
   "id": "11734086",
   "metadata": {},
   "outputs": [
    {
     "name": "stdout",
     "output_type": "stream",
     "text": [
      "10\n"
     ]
    }
   ],
   "source": [
    "f =lambda a,b :a if a>b else b\n",
    "# mean return the greatest item in list\n",
    "print(reduce(f,[10,1,3,5,1])) "
   ]
  },
  {
   "cell_type": "code",
   "execution_count": 12,
   "id": "5a891218",
   "metadata": {},
   "outputs": [
    {
     "data": {
      "text/plain": [
       "['odd', 'even', 'odd', 'even', 'odd']"
      ]
     },
     "execution_count": 12,
     "metadata": {},
     "output_type": "execute_result"
    }
   ],
   "source": [
    "f =lambda a:'even' if a%2 ==0 else \"odd\"\n",
    "list(map(f ,l))"
   ]
  },
  {
   "cell_type": "code",
   "execution_count": 5,
   "id": "0d4ccb4e",
   "metadata": {},
   "outputs": [
    {
     "name": "stdout",
     "output_type": "stream",
     "text": [
      "[5, 10, 15, 20, 25, 30, 35, 40, 45, 50, 55, 60, 65, 70, 75]\n"
     ]
    }
   ],
   "source": [
    "res =[n*5 for n in range(1,16)]\n",
    "print(res)"
   ]
  },
  {
   "cell_type": "code",
   "execution_count": 8,
   "id": "1eecac82",
   "metadata": {},
   "outputs": [
    {
     "name": "stdout",
     "output_type": "stream",
     "text": [
      "[1, 2, 3, 4, 5, 6, 7, 8, 9, 10, 11, 12, 13, 14]\n"
     ]
    }
   ],
   "source": [
    "print([n for n in range(1,15)])"
   ]
  },
  {
   "cell_type": "code",
   "execution_count": 1,
   "id": "ff0320e5",
   "metadata": {},
   "outputs": [
    {
     "name": "stdout",
     "output_type": "stream",
     "text": [
      "[9, 16, 25, 36]\n"
     ]
    }
   ],
   "source": [
    "lst2 =[3,4,5,6]\n",
    "res2 =[i**2 for i in lst2]\n",
    "print(res2)\n"
   ]
  },
  {
   "cell_type": "code",
   "execution_count": 2,
   "id": "09cccac3",
   "metadata": {},
   "outputs": [
    {
     "name": "stdout",
     "output_type": "stream",
     "text": [
      "[2, 4, 6, 8, 10, 12, 14, 16, 18, 20]\n"
     ]
    }
   ],
   "source": [
    "res3 =[n for n in range(1,21) if n%2 ==0]\n",
    "print(res3)"
   ]
  },
  {
   "cell_type": "code",
   "execution_count": 3,
   "id": "51016c9d",
   "metadata": {},
   "outputs": [
    {
     "name": "stdout",
     "output_type": "stream",
     "text": [
      "['fail', 'pass', 'pass', 'fail', 'fail', 'fail']\n"
     ]
    }
   ],
   "source": [
    "grades =[30,70,80,10,50,40]\n",
    "res10 =['pass' if g > 60 else 'fail' for g in grades]\n",
    "print(res10)"
   ]
  },
  {
   "cell_type": "code",
   "execution_count": 4,
   "id": "734e7075",
   "metadata": {},
   "outputs": [
    {
     "name": "stdout",
     "output_type": "stream",
     "text": [
      "[1, 2, 4, 2, 3, 8, 9, 7]\n"
     ]
    }
   ],
   "source": [
    "# nested for\n",
    "matrix =[[1,2,4] , [2,3] ,[8,9,7]]\n",
    "\n",
    "flat_matrix =[]\n",
    "\n",
    "for row in matrix:\n",
    "    for i in row :\n",
    "        flat_matrix.append(i)\n",
    "\n",
    "print(flat_matrix)"
   ]
  },
  {
   "cell_type": "code",
   "execution_count": null,
   "id": "4d3f76fd",
   "metadata": {},
   "outputs": [],
   "source": []
  }
 ],
 "metadata": {
  "kernelspec": {
   "display_name": "Python 3",
   "language": "python",
   "name": "python3"
  },
  "language_info": {
   "codemirror_mode": {
    "name": "ipython",
    "version": 3
   },
   "file_extension": ".py",
   "mimetype": "text/x-python",
   "name": "python",
   "nbconvert_exporter": "python",
   "pygments_lexer": "ipython3",
   "version": "3.10.12"
  }
 },
 "nbformat": 4,
 "nbformat_minor": 5
}
