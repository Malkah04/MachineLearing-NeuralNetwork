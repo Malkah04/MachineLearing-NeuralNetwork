{
 "cells": [
  {
   "cell_type": "code",
   "execution_count": 1,
   "id": "e6627511",
   "metadata": {},
   "outputs": [],
   "source": [
    "import pickle"
   ]
  },
  {
   "cell_type": "code",
   "execution_count": 6,
   "id": "9dd5a808",
   "metadata": {},
   "outputs": [],
   "source": [
    "# wb :write binary\n",
    "file = open('aa.txt' ,'wb')\n",
    "pickle.dump([1,2,4,5,6,7,8] ,file)\n",
    "file.close()"
   ]
  },
  {
   "cell_type": "code",
   "execution_count": 7,
   "id": "ddf1c161",
   "metadata": {},
   "outputs": [
    {
     "name": "stdout",
     "output_type": "stream",
     "text": [
      "[1, 2, 4, 5, 6, 7, 8]\n"
     ]
    }
   ],
   "source": [
    "# rb :read binary\n",
    "f =open('aa.txt' , 'rb')\n",
    "d =pickle.load(f)\n",
    "f.close()\n",
    "print(d)"
   ]
  },
  {
   "cell_type": "code",
   "execution_count": 8,
   "id": "bd45809c",
   "metadata": {},
   "outputs": [],
   "source": [
    "def read_from_file (fileName) :\n",
    "    f =open(fileName ,'rb')\n",
    "    res =pickle.load(f)\n",
    "    f.close()\n",
    "    return res"
   ]
  },
  {
   "cell_type": "code",
   "execution_count": 9,
   "id": "966b81f6",
   "metadata": {},
   "outputs": [],
   "source": [
    "def write_on_file (fileName ,data):\n",
    "    f=open(fileName ,'wb')\n",
    "    pickle.dump(data ,f)\n",
    "    f.close()"
   ]
  },
  {
   "cell_type": "code",
   "execution_count": 19,
   "id": "b595548d",
   "metadata": {},
   "outputs": [
    {
     "name": "stdout",
     "output_type": "stream",
     "text": [
      "malak\n",
      "\n",
      "mohmaned\n",
      "\n",
      "hassan\n",
      "\n",
      "ahmed"
     ]
    }
   ],
   "source": [
    "def read_file_line_line (fileName):\n",
    "    f =open(fileName ,'r')\n",
    "    for line in f :\n",
    "        print(line ,end ='')\n",
    "    f.close()\n",
    "\n",
    "read_file_line_line(\"name.txt\")\n",
    "\n"
   ]
  },
  {
   "cell_type": "code",
   "execution_count": 22,
   "id": "069f85b8",
   "metadata": {},
   "outputs": [
    {
     "name": "stdout",
     "output_type": "stream",
     "text": [
      "malak,mohmaned,hassan,ahmed,"
     ]
    }
   ],
   "source": [
    "def read_word_word(fileName):\n",
    "    f=open(fileName ,'r')\n",
    "    for line in  f :\n",
    "        for word in line.split():\n",
    "            print(word ,end=',')\n",
    "    f.close()\n",
    "\n",
    "read_word_word('name.txt')"
   ]
  },
  {
   "cell_type": "code",
   "execution_count": 14,
   "id": "e2a73f2a",
   "metadata": {},
   "outputs": [],
   "source": [
    "a =[2,4,True]\n",
    "write_on_file('aa.txt' ,a)"
   ]
  },
  {
   "cell_type": "code",
   "execution_count": 16,
   "id": "0de5faa9",
   "metadata": {},
   "outputs": [
    {
     "name": "stdout",
     "output_type": "stream",
     "text": [
      "[2, 4, True]\n"
     ]
    }
   ],
   "source": [
    "a1 =read_from_file('aa.txt')\n",
    "print(a1)"
   ]
  }
 ],
 "metadata": {
  "kernelspec": {
   "display_name": "Python 3",
   "language": "python",
   "name": "python3"
  },
  "language_info": {
   "codemirror_mode": {
    "name": "ipython",
    "version": 3
   },
   "file_extension": ".py",
   "mimetype": "text/x-python",
   "name": "python",
   "nbconvert_exporter": "python",
   "pygments_lexer": "ipython3",
   "version": "3.10.12"
  }
 },
 "nbformat": 4,
 "nbformat_minor": 5
}
