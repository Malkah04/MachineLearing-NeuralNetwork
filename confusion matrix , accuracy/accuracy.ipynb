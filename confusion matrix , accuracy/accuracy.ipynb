{
 "cells": [
  {
   "cell_type": "code",
   "execution_count": 1,
   "id": "dff53e12",
   "metadata": {},
   "outputs": [
    {
     "name": "stderr",
     "output_type": "stream",
     "text": [
      "/home/malak/.local/lib/python3.10/site-packages/matplotlib/projections/__init__.py:63: UserWarning: Unable to import Axes3D. This may be due to multiple versions of Matplotlib being installed (e.g. as a system package and as a pip package). As a result, the 3D projection is not available.\n",
      "  warnings.warn(\"Unable to import Axes3D. This may be due to multiple versions of \"\n"
     ]
    }
   ],
   "source": [
    "import numpy as np\n",
    "import matplotlib.pyplot as plt \n",
    "import pandas as pd\n",
    "import seaborn as sns"
   ]
  },
  {
   "cell_type": "code",
   "execution_count": 2,
   "id": "802edcf7",
   "metadata": {},
   "outputs": [
    {
     "name": "stdout",
     "output_type": "stream",
     "text": [
      "[[111 101]\n",
      " [100 110]]\n",
      "                  actual positive  actual negtive\n",
      "predict postive               111             101\n",
      "predict negative              100             110\n"
     ]
    },
    {
     "data": {
      "text/plain": [
       "<Axes: >"
      ]
     },
     "execution_count": 2,
     "metadata": {},
     "output_type": "execute_result"
    },
    {
     "data": {
      "image/png": "[encoded data removed]",
      "text/plain": [
       "<Figure size 432x288 with 2 Axes>"
      ]
     },
     "metadata": {
      "needs_background": "light"
     },
     "output_type": "display_data"
    }
   ],
   "source": [
    "cn = np.array([\n",
    "    [111 ,101] ,\n",
    "    [100 ,110]\n",
    "    ])\n",
    "cn.reshape(2,2)\n",
    "print(cn)\n",
    "cn_matrix = pd.DataFrame(data=cn , columns=['actual positive' , 'actual negtive' ] ,index=['predict postive' ,'predict negative'])\n",
    "print(cn_matrix)\n",
    "sns.heatmap(cn_matrix ,annot=True ,fmt='d' )"
   ]
  },
  {
   "cell_type": "markdown",
   "id": "23f33e35",
   "metadata": {},
   "source": [
    "# Accuracy = TP+TN / (TP+TN +FP +FN)"
   ]
  },
  {
   "cell_type": "markdown",
   "id": "de35a7a9",
   "metadata": {},
   "source": [
    "#\n",
    "\n",
    "\n",
    "#"
   ]
  },
  {
   "cell_type": "markdown",
   "id": "36144689",
   "metadata": {},
   "source": [
    "# Precision = TP / (TP +FP)\n",
    "\n",
    "### the ratio of correctly predicted postive observations to the total predicted postive"
   ]
  },
  {
   "cell_type": "markdown",
   "id": "f790f693",
   "metadata": {},
   "source": [
    "###\n",
    "\n",
    "\n",
    "\n",
    "###\n"
   ]
  },
  {
   "cell_type": "markdown",
   "id": "d9bf7089",
   "metadata": {},
   "source": [
    "# Recall (Senstivity) = TP /TP +FN\n",
    "\n",
    "### the ratio of correctly predicted postive observation to all observation in actual class\n"
   ]
  },
  {
   "cell_type": "markdown",
   "id": "0facbb28",
   "metadata": {},
   "source": [
    "#\n",
    "\n",
    "\n",
    "\n",
    "#"
   ]
  },
  {
   "cell_type": "markdown",
   "id": "9164a290",
   "metadata": {},
   "source": [
    "# Specificitly = TN /(TN+FP)\n",
    "### the ratio of correct predicted negative observation to all observation in the actual negative class"
   ]
  },
  {
   "cell_type": "markdown",
   "id": "adc79113",
   "metadata": {},
   "source": [
    "#\n",
    "\n",
    "\n",
    "\n",
    "#"
   ]
  },
  {
   "cell_type": "markdown",
   "id": "6836b88c",
   "metadata": {},
   "source": [
    "# F1 Score  = 2 * ( (precision * recall )/ (precision + recall ))"
   ]
  }
 ],
 "metadata": {
  "kernelspec": {
   "display_name": "Python 3",
   "language": "python",
   "name": "python3"
  },
  "language_info": {
   "codemirror_mode": {
    "name": "ipython",
    "version": 3
   },
   "file_extension": ".py",
   "mimetype": "text/x-python",
   "name": "python",
   "nbconvert_exporter": "python",
   "pygments_lexer": "ipython3",
   "version": "3.10.12"
  }
 },
 "nbformat": 4,
 "nbformat_minor": 5
}
