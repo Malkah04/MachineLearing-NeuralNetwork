{
 "cells": [
  {
   "cell_type": "code",
   "execution_count": 2,
   "id": "c3d9c590",
   "metadata": {},
   "outputs": [
    {
     "name": "stdout",
     "output_type": "stream",
     "text": [
      "q\n"
     ]
    }
   ],
   "source": [
    "print(\"q\")"
   ]
  },
  {
   "cell_type": "code",
   "execution_count": null,
   "id": "16c12d96",
   "metadata": {},
   "outputs": [],
   "source": [
    "e=1\n",
    "print(e)"
   ]
  },
  {
   "cell_type": "code",
   "execution_count": 1,
   "id": "87db2e4a",
   "metadata": {},
   "outputs": [
    {
     "name": "stdout",
     "output_type": "stream",
     "text": [
      "1 malak\n",
      "2 menna\n"
     ]
    }
   ],
   "source": [
    "# Enumerate (return item and id)\n",
    "\n",
    "names =['malak','menna']\n",
    "for id ,name in enumerate(names ,start=1):\n",
    "    print(id , name)"
   ]
  },
  {
   "cell_type": "code",
   "execution_count": 2,
   "id": "684a32c6",
   "metadata": {},
   "outputs": [
    {
     "name": "stdout",
     "output_type": "stream",
     "text": [
      "0.819770976769388\n"
     ]
    }
   ],
   "source": [
    "import random\n",
    "\n",
    "# random number  from 0 to 1\n",
    "random_float =random.random()\n",
    "print(random_float)"
   ]
  },
  {
   "cell_type": "code",
   "execution_count": null,
   "id": "15c790ae",
   "metadata": {},
   "outputs": [
    {
     "name": "stdout",
     "output_type": "stream",
     "text": [
      "8\n"
     ]
    }
   ],
   "source": [
    "# random number from 1 to 10\n",
    "r  =random.randint(1,10)\n",
    "print(r ) "
   ]
  },
  {
   "cell_type": "code",
   "execution_count": 39,
   "id": "12d8faf8",
   "metadata": {},
   "outputs": [
    {
     "name": "stdout",
     "output_type": "stream",
     "text": [
      "0\n",
      "1\n",
      "3\n"
     ]
    }
   ],
   "source": [
    "# rand number between 0 to 9\n",
    "random_range =random.randrange(10)\n",
    "print(random_range)\n",
    "\n",
    "#rand number with start point\n",
    "# rand number between 1 to 9\n",
    "rand_range_start =random.randrange(1,10)\n",
    "print(rand_range_start)\n",
    "\n",
    "# rand number with steps \n",
    "rand_range_step =random.randrange(1,10,2)\n",
    "print(rand_range_step)"
   ]
  },
  {
   "cell_type": "code",
   "execution_count": 11,
   "id": "70812883",
   "metadata": {},
   "outputs": [
    {
     "name": "stdout",
     "output_type": "stream",
     "text": [
      "[4, 2, 1, 3]\n"
     ]
    }
   ],
   "source": [
    "# rand a l\n",
    "l =[1,2,3,4]\n",
    "random.shuffle(l)\n",
    "print(l)"
   ]
  },
  {
   "cell_type": "code",
   "execution_count": null,
   "id": "e8ed4a48",
   "metadata": {},
   "outputs": [
    {
     "name": "stdout",
     "output_type": "stream",
     "text": [
      "cherry\n"
     ]
    }
   ],
   "source": [
    "l = ['apple' ,'banana' ,'cherry']\n",
    "rand_el =random.choice(l)\n",
    "print(rand_el)"
   ]
  },
  {
   "cell_type": "code",
   "execution_count": null,
   "id": "7e0aed84",
   "metadata": {},
   "outputs": [
    {
     "name": "stdout",
     "output_type": "stream",
     "text": [
      "['apple', 'banana']\n"
     ]
    }
   ],
   "source": [
    "#  rand sample\n",
    "rand_sample = random.sample(l,2)\n",
    "print(rand_sample)"
   ]
  },
  {
   "cell_type": "code",
   "execution_count": 5,
   "id": "94955f68",
   "metadata": {},
   "outputs": [
    {
     "name": "stdout",
     "output_type": "stream",
     "text": [
      "0.5714025946899135\n"
     ]
    }
   ],
   "source": [
    "# عشان نثبت الراندم ايتم اللي طلعوا\n",
    "random.seed(10)\n",
    "# every time , is the same item\n",
    "print(random.random())"
   ]
  },
  {
   "cell_type": "code",
   "execution_count": 62,
   "id": "abff9564",
   "metadata": {},
   "outputs": [
    {
     "name": "stdout",
     "output_type": "stream",
     "text": [
      "[0, 1, 2, 3, 4, 5, 6, 7, 8, 9]\n"
     ]
    }
   ],
   "source": [
    "seq =list(range(10))\n",
    "print(seq)"
   ]
  },
  {
   "cell_type": "code",
   "execution_count": null,
   "id": "5432e4b3",
   "metadata": {},
   "outputs": [],
   "source": []
  }
 ],
 "metadata": {
  "kernelspec": {
   "display_name": "Python 3",
   "language": "python",
   "name": "python3"
  },
  "language_info": {
   "codemirror_mode": {
    "name": "ipython",
    "version": 3
   },
   "file_extension": ".py",
   "mimetype": "text/x-python",
   "name": "python",
   "nbconvert_exporter": "python",
   "pygments_lexer": "ipython3",
   "version": "3.10.12"
  }
 },
 "nbformat": 4,
 "nbformat_minor": 5
}
