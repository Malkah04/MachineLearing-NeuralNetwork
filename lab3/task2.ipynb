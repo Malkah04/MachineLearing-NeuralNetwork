{
 "cells": [
  {
   "cell_type": "code",
   "execution_count": 1,
   "id": "f20284c5",
   "metadata": {},
   "outputs": [],
   "source": [
    "import numpy as np"
   ]
  },
  {
   "cell_type": "code",
   "execution_count": 2,
   "id": "d45fe635",
   "metadata": {},
   "outputs": [],
   "source": [
    "def step(x):\n",
    "    return 1 if x>=0 else 0\n"
   ]
  },
  {
   "cell_type": "markdown",
   "id": "80c5b8df",
   "metadata": {},
   "source": [
    "# b(bias) = -T (threshold)"
   ]
  },
  {
   "cell_type": "code",
   "execution_count": 3,
   "id": "e9608f57",
   "metadata": {},
   "outputs": [],
   "source": [
    "def nuron (x ,w ,b) :\n",
    "    return step(np.dot(x , w) + b)"
   ]
  },
  {
   "cell_type": "code",
   "execution_count": 4,
   "id": "12df3e40",
   "metadata": {},
   "outputs": [],
   "source": [
    "def AND(x):\n",
    "    n = nuron (x , np.array([1,1]) , -2)\n",
    "    return n"
   ]
  },
  {
   "cell_type": "code",
   "execution_count": 5,
   "id": "bb62395b",
   "metadata": {},
   "outputs": [],
   "source": [
    "def OR(x) :\n",
    "     n= nuron(x ,np.array([1,1,-1]) , -1)\n",
    "     return n\n",
    "    "
   ]
  },
  {
   "cell_type": "code",
   "execution_count": 6,
   "id": "4be7cec1",
   "metadata": {},
   "outputs": [],
   "source": [
    "X = [[a,b,c] for a in range(2) for b in range(2) for c in range(2)]\n",
    "\n",
    "# for x in X :\n",
    "#     print(f\" and{x} = {AND(x)} \")"
   ]
  },
  {
   "cell_type": "code",
   "execution_count": 7,
   "id": "32462420",
   "metadata": {},
   "outputs": [
    {
     "name": "stdout",
     "output_type": "stream",
     "text": [
      " or[[0, 0, 0]] = 0 \n",
      " or[[0, 0, 1]] = 0 \n",
      " or[[0, 1, 0]] = 1 \n",
      " or[[0, 1, 1]] = 0 \n",
      " or[[1, 0, 0]] = 1 \n",
      " or[[1, 0, 1]] = 0 \n",
      " or[[1, 1, 0]] = 1 \n",
      " or[[1, 1, 1]] = 1 \n"
     ]
    }
   ],
   "source": [
    "for x in X :\n",
    "    print(f\" or{[x]} = {OR(x)} \")"
   ]
  },
  {
   "cell_type": "code",
   "execution_count": 8,
   "id": "7d789fa0",
   "metadata": {},
   "outputs": [],
   "source": [
    "def XOR(x):\n",
    "    n1 = nuron(x , np.array([1,-1]) , -1)\n",
    "    n2 =nuron (x , np.array([-1,1]) , -1 )\n",
    "    \n",
    "    n3 =nuron(np.array([n1,n2]) , np.array([1,1]) , -1 )\n",
    "    \n",
    "    return n3"
   ]
  },
  {
   "cell_type": "code",
   "execution_count": 9,
   "id": "f1f6cf97",
   "metadata": {},
   "outputs": [
    {
     "name": "stdout",
     "output_type": "stream",
     "text": [
      " XOR[0, 0] = 0\n",
      " XOR[0, 1] = 1\n",
      " XOR[1, 0] = 1\n",
      " XOR[1, 1] = 0\n"
     ]
    }
   ],
   "source": [
    "X = [[a,b] for a in range(2) for b in range(2)]\n",
    "for x in X :\n",
    "    print(f\" XOR{x} = {XOR(x)}\")"
   ]
  },
  {
   "cell_type": "code",
   "execution_count": 10,
   "id": "17d7e833",
   "metadata": {},
   "outputs": [],
   "source": [
    "def BF(x):\n",
    "    n1 = nuron (np.array([x[0] ,x[1] ,x[3]]) , np.array([1,-1,1]) ,-2)\n",
    "    n2 =nuron (np.array([ x[0] ,x[2] ]) , np.array([1, -1]) , -1)\n",
    "    n3 = nuron(np.array([ x[1] ,x[2] ]) , np.array([1 ,1]) , -2)\n",
    "    n4 =nuron(np.array([x[1] ,x[3]])  ,np.array([1,1]) , -2)\n",
    "    \n",
    "    n5 = nuron(np.array([n1 ,n2]) , np.array([1,1]) , -1)\n",
    "    n6 =nuron(np.array([n3,n4]) , np.array([1 ,-1]) , 0)\n",
    "    \n",
    "    n7 =nuron( np.array([n5,n6]) ,np.array([1,1]) ,-2 )\n",
    "    \n",
    "    return n7 "
   ]
  },
  {
   "cell_type": "code",
   "execution_count": 11,
   "id": "49ad8086",
   "metadata": {},
   "outputs": [],
   "source": [
    "def b(x) :\n",
    "    return bool( (( x[0] and (not x[1] )and x[3] )or ( x[0] and not x[2])) and ((x[1] and x[2]) or (not(x[1] and x[3])) ))\n"
   ]
  },
  {
   "cell_type": "code",
   "execution_count": 12,
   "id": "bfaf3c99",
   "metadata": {},
   "outputs": [
    {
     "name": "stdout",
     "output_type": "stream",
     "text": [
      " BOOLEAN FUN [0, 0, 0, 0] = 0  ,  test [0, 0, 0, 0] = False \n",
      " BOOLEAN FUN [0, 0, 0, 1] = 0  ,  test [0, 0, 0, 1] = False \n",
      " BOOLEAN FUN [0, 0, 1, 0] = 0  ,  test [0, 0, 1, 0] = False \n",
      " BOOLEAN FUN [0, 0, 1, 1] = 0  ,  test [0, 0, 1, 1] = False \n",
      " BOOLEAN FUN [0, 1, 0, 0] = 0  ,  test [0, 1, 0, 0] = False \n",
      " BOOLEAN FUN [0, 1, 0, 1] = 0  ,  test [0, 1, 0, 1] = False \n",
      " BOOLEAN FUN [0, 1, 1, 0] = 0  ,  test [0, 1, 1, 0] = False \n",
      " BOOLEAN FUN [0, 1, 1, 1] = 0  ,  test [0, 1, 1, 1] = False \n",
      " BOOLEAN FUN [1, 0, 0, 0] = 1  ,  test [1, 0, 0, 0] = True \n",
      " BOOLEAN FUN [1, 0, 0, 1] = 1  ,  test [1, 0, 0, 1] = True \n",
      " BOOLEAN FUN [1, 0, 1, 0] = 0  ,  test [1, 0, 1, 0] = False \n",
      " BOOLEAN FUN [1, 0, 1, 1] = 1  ,  test [1, 0, 1, 1] = True \n",
      " BOOLEAN FUN [1, 1, 0, 0] = 1  ,  test [1, 1, 0, 0] = True \n",
      " BOOLEAN FUN [1, 1, 0, 1] = 0  ,  test [1, 1, 0, 1] = False \n",
      " BOOLEAN FUN [1, 1, 1, 0] = 0  ,  test [1, 1, 1, 0] = False \n",
      " BOOLEAN FUN [1, 1, 1, 1] = 0  ,  test [1, 1, 1, 1] = False \n"
     ]
    }
   ],
   "source": [
    "X =[[a,x,y,z] for a in range(2) for x in range(2) for y in range(2) for z in range(2) ]\n",
    "\n",
    "for x in X :\n",
    "    print(f\" BOOLEAN FUN {x} = {BF(x)}  ,  test {x} = {b(x)} \")"
   ]
  },
  {
   "cell_type": "code",
   "execution_count": 13,
   "id": "3c6d7a30",
   "metadata": {},
   "outputs": [],
   "source": [
    "def genericAnd(x):\n",
    "    length = len(x)\n",
    "    w =[ 1 for x in x ]\n",
    "    n = nuron(x ,np.array(w) , -length)\n",
    "    return n \n",
    "    "
   ]
  },
  {
   "cell_type": "code",
   "execution_count": 14,
   "id": "f43af441",
   "metadata": {},
   "outputs": [
    {
     "name": "stdout",
     "output_type": "stream",
     "text": [
      "And[0, 0, 0, 0] = 0\n",
      "And[0, 0, 0, 1] = 0\n",
      "And[0, 0, 1, 0] = 0\n",
      "And[0, 0, 1, 1] = 0\n",
      "And[0, 1, 0, 0] = 0\n",
      "And[0, 1, 0, 1] = 0\n",
      "And[0, 1, 1, 0] = 0\n",
      "And[0, 1, 1, 1] = 0\n",
      "And[1, 0, 0, 0] = 0\n",
      "And[1, 0, 0, 1] = 0\n",
      "And[1, 0, 1, 0] = 0\n",
      "And[1, 0, 1, 1] = 0\n",
      "And[1, 1, 0, 0] = 0\n",
      "And[1, 1, 0, 1] = 0\n",
      "And[1, 1, 1, 0] = 0\n",
      "And[1, 1, 1, 1] = 1\n"
     ]
    }
   ],
   "source": [
    "for x in X :\n",
    "    print(f\"And{x} = {genericAnd(x)}\")"
   ]
  },
  {
   "cell_type": "code",
   "execution_count": 15,
   "id": "0ef820be",
   "metadata": {},
   "outputs": [
    {
     "name": "stdout",
     "output_type": "stream",
     "text": [
      "16\n",
      "[1, 1, 1, 1, 1, 1, 1, 1, 1, 1, 1, 1, 1, 1, 1, 1]\n"
     ]
    }
   ],
   "source": [
    "    \n",
    "count = len(X)\n",
    "\n",
    "print(count)\n",
    "\n",
    "w = [1 for x in (X)]\n",
    "print(w)\n",
    "    "
   ]
  },
  {
   "cell_type": "code",
   "execution_count": 16,
   "id": "b55e4ed3",
   "metadata": {},
   "outputs": [],
   "source": [
    "def DiffAnd(x) :\n",
    "    \n",
    "    n = nuron ( x , np.array([3,4,-1]) , -7)\n",
    "    return n\n",
    "    "
   ]
  },
  {
   "cell_type": "code",
   "execution_count": 17,
   "id": "ec38a3e1",
   "metadata": {},
   "outputs": [],
   "source": [
    "def diffAnd(x ,w):\n",
    "    bias=0\n",
    "    for a in w:\n",
    "        if(a>0) :\n",
    "            bias+=a\n",
    "    \n",
    "    n= nuron(x , w ,-bias)\n",
    "    return n"
   ]
  },
  {
   "cell_type": "code",
   "execution_count": 18,
   "id": "41893807",
   "metadata": {},
   "outputs": [
    {
     "name": "stdout",
     "output_type": "stream",
     "text": [
      " diff[0, 0, 0] = 0  \n",
      " diff[0, 0, 1] = 0  \n",
      " diff[0, 1, 0] = 0  \n",
      " diff[0, 1, 1] = 0  \n",
      " diff[1, 0, 0] = 0  \n",
      " diff[1, 0, 1] = 0  \n",
      " diff[1, 1, 0] = 1  \n",
      " diff[1, 1, 1] = 0  \n"
     ]
    }
   ],
   "source": [
    "X =[[x,y,z] for x in range(2) for y in range(2) for z in range(2) ]\n",
    "for x in X:\n",
    "    print(f\" diff{x} = {DiffAnd(x)}  \")\n",
    "\n",
    "\n"
   ]
  },
  {
   "cell_type": "code",
   "execution_count": 19,
   "id": "0127f27b",
   "metadata": {},
   "outputs": [
    {
     "name": "stdout",
     "output_type": "stream",
     "text": [
      " diff[0, 0, 0] = 0  \n",
      " diff[0, 0, 1] = 0  \n",
      " diff[0, 1, 0] = 1  \n",
      " diff[0, 1, 1] = 0  \n",
      " diff[1, 0, 0] = 0  \n",
      " diff[1, 0, 1] = 0  \n",
      " diff[1, 1, 0] = 0  \n",
      " diff[1, 1, 1] = 0  \n"
     ]
    }
   ],
   "source": [
    "W = [-3,2,-4]\n",
    "for x in X:\n",
    "    print(f\" diff{x} = {diffAnd(x ,W)}  \")"
   ]
  },
  {
   "cell_type": "code",
   "execution_count": 20,
   "id": "7bca5319",
   "metadata": {},
   "outputs": [],
   "source": [
    "def nural(x ,w ,b):\n",
    "    return step2(np.dot(x,w) +b)\n",
    "\n",
    "def step2(x):\n",
    "    return 1 if x>=0 else 0\n",
    "\n"
   ]
  },
  {
   "cell_type": "code",
   "execution_count": 21,
   "id": "93dcfa77",
   "metadata": {},
   "outputs": [],
   "source": [
    "def diffOR (x ,w):\n",
    "    l = sum(a for a in w if a > 0)       \n",
    "    n = sum(abs(a) for a in w)\n",
    "        \n",
    "    bias = -((l-n)+1)\n",
    "\n",
    "    n1 = nural(x,w , bias)\n",
    "    return n1\n",
    "    "
   ]
  },
  {
   "cell_type": "code",
   "execution_count": 22,
   "id": "18d49254",
   "metadata": {},
   "outputs": [
    {
     "name": "stdout",
     "output_type": "stream",
     "text": [
      "or[0, 0, 0]  == 1\n",
      "or[0, 0, 1]  == 1\n",
      "or[0, 1, 0]  == 1\n",
      "or[0, 1, 1]  == 1\n",
      "or[1, 0, 0]  == 1\n",
      "or[1, 0, 1]  == 0\n",
      "or[1, 1, 0]  == 1\n",
      "or[1, 1, 1]  == 1\n"
     ]
    }
   ],
   "source": [
    "w = [-3,2,-4]\n",
    "X =[[x,y,z] for x in range(2) for y in range(2) for z in range(2) ]\n",
    "\n",
    "for x in X:\n",
    "    print(f'or{x}  == {diffOR(x,w)}')\n"
   ]
  },
  {
   "cell_type": "code",
   "execution_count": 23,
   "id": "f936dc7d",
   "metadata": {},
   "outputs": [
    {
     "name": "stdout",
     "output_type": "stream",
     "text": [
      " or[[0, 0, 0]] = 1 \n",
      " or[[0, 0, 1]] = 1 \n",
      " or[[0, 1, 0]] = 1 \n",
      " or[[0, 1, 1]] = 1 \n",
      " or[[1, 0, 0]] = 1 \n",
      " or[[1, 0, 1]] = 0 \n",
      " or[[1, 1, 0]] = 1 \n",
      " or[[1, 1, 1]] = 1 \n"
     ]
    }
   ],
   "source": [
    "def OR(x) :\n",
    "     n= nuron(x ,np.array([-1,1,-1]) ,1)\n",
    "     return n\n",
    "    \n",
    "for x in X :\n",
    "    print(f\" or{[x]} = {OR(x)} \")"
   ]
  },
  {
   "cell_type": "code",
   "execution_count": 24,
   "id": "10458d9a",
   "metadata": {},
   "outputs": [
    {
     "name": "stdout",
     "output_type": "stream",
     "text": [
      "0\n",
      "1    4\n",
      "2    1\n",
      "3    1\n",
      "Name: count, dtype: int64\n"
     ]
    }
   ],
   "source": [
    "import pandas as pd\n",
    "q =pd.DataFrame([1,2,3,1,1,1])\n",
    "print(q.value_counts())"
   ]
  },
  {
   "cell_type": "code",
   "execution_count": 25,
   "id": "68bd8699",
   "metadata": {},
   "outputs": [],
   "source": [
    "def Not(x):\n",
    "    n1 = nuron(x,np.array([-1]),0)\n",
    "    return n1"
   ]
  },
  {
   "cell_type": "code",
   "execution_count": 26,
   "id": "febf1c4c",
   "metadata": {},
   "outputs": [
    {
     "name": "stdout",
     "output_type": "stream",
     "text": [
      "1\n"
     ]
    }
   ],
   "source": [
    "print(Not(0))"
   ]
  },
  {
   "cell_type": "code",
   "execution_count": 27,
   "id": "2b8aaa37",
   "metadata": {},
   "outputs": [],
   "source": [
    "def boolean_fun1(x):\n",
    "    n1=diffAnd(x , np.array([-2,-3,2,3,-3]))\n",
    "    n2=diffAnd(x , np.array([-2,2,-4,3,4]))\n",
    "    n3=diffAnd(x , np.array([-2,2,3,-4,-3]))\n",
    "    n4=diffAnd(x , np.array([2,-3,-4,-3,4]))\n",
    "    n5=diffAnd(x , np.array([2,-3,3,2,4]))\n",
    "    n6=diffAnd(x , np.array([2,3,-2,-4,4]))\n",
    "    \n",
    "    # n7 =nural(np.array([n1,n2,n3,n4,n5,n6]) , np.array([1,1,1,1,1,1]) ,-1)\n",
    "    n7 =diffOR(np.array([n1,n2,n3,n4,n5,n6]) ,np.array([2,3,4,5,6,7]))\n",
    "    return n7\n",
    "    \n",
    "    \n"
   ]
  },
  {
   "cell_type": "code",
   "execution_count": 28,
   "id": "e34bee57",
   "metadata": {},
   "outputs": [
    {
     "name": "stdout",
     "output_type": "stream",
     "text": [
      "[0, 0, 1, 1, 0] = 1\n",
      "[0, 1, 0, 1, 1] = 1\n",
      "[0, 1, 1, 0, 0] = 1\n",
      "[1, 0, 0, 0, 1] = 1\n",
      "[1, 0, 1, 1, 1] = 1\n",
      "[1, 1, 0, 0, 1] = 1\n"
     ]
    }
   ],
   "source": [
    "X =[[a,b,c,d,e] for a in range(2) for b in range(2) for c in range(2) for d in range(2) for e in range(2)]\n",
    "for x in X :\n",
    "    if boolean_fun1(x)==1:\n",
    "        print(f'{x} = {boolean_fun1(x)}')"
   ]
  },
  {
   "cell_type": "code",
   "execution_count": 29,
   "id": "165a677b",
   "metadata": {},
   "outputs": [
    {
     "name": "stdout",
     "output_type": "stream",
     "text": [
      "[0, 0, 1, 1, 0] = 1\n",
      "[0, 1, 0, 1, 1] = 1\n",
      "[0, 1, 1, 0, 0] = 1\n",
      "[1, 0, 0, 0, 1] = 1\n",
      "[1, 0, 1, 1, 1] = 1\n",
      "[1, 1, 0, 0, 1] = 1\n"
     ]
    }
   ],
   "source": [
    "X =[[a,b,c,d,e] for a in range(2) for b in range(2) for c in range(2) for d in range(2) for e in range(2)]\n",
    "for x in X :\n",
    "    if boolean_fun1(x)==1:\n",
    "        print(f'{x} = {boolean_fun1(x)}')"
   ]
  },
  {
   "cell_type": "code",
   "execution_count": 44,
   "id": "bec5797e",
   "metadata": {},
   "outputs": [],
   "source": [
    "def boolean_fun2(x) :\n",
    "    n1 = nural(np.array([x[2] ,x[3]]),np.array([-1,-1]),0)\n",
    "    n2 = nural(np.array([x[0] ,x[1] ,x[2]]),np.array([-1,1,-1]),-1)\n",
    "    n3 =nural(np.array([x[0],x[3]]),np.array([-1,-1]),0) \n",
    "    \n",
    "    n4 =diffOR(np.array([n1,n2,n3]), np.array([1,1,1]))\n",
    "    return n4  "
   ]
  },
  {
   "cell_type": "code",
   "execution_count": 45,
   "id": "a9564d1f",
   "metadata": {},
   "outputs": [
    {
     "name": "stdout",
     "output_type": "stream",
     "text": [
      "bf[0, 0, 0, 0] == 1\n",
      "bf[0, 0, 0, 1] == 0\n",
      "bf[0, 0, 1, 0] == 1\n",
      "bf[0, 0, 1, 1] == 0\n",
      "bf[0, 1, 0, 0] == 1\n",
      "bf[0, 1, 0, 1] == 1\n",
      "bf[0, 1, 1, 0] == 1\n",
      "bf[0, 1, 1, 1] == 0\n",
      "bf[1, 0, 0, 0] == 1\n",
      "bf[1, 0, 0, 1] == 0\n",
      "bf[1, 0, 1, 0] == 0\n",
      "bf[1, 0, 1, 1] == 0\n",
      "bf[1, 1, 0, 0] == 1\n",
      "bf[1, 1, 0, 1] == 0\n",
      "bf[1, 1, 1, 0] == 0\n",
      "bf[1, 1, 1, 1] == 0\n"
     ]
    }
   ],
   "source": [
    "X =[[a,b,c,d] for a in range(2) for b in range(2) for c in range(2) for d in range(2) ]\n",
    "\n",
    "for x in X :\n",
    "    print(f'bf{x} == {boolean_fun2(x)}')\n"
   ]
  },
  {
   "cell_type": "code",
   "execution_count": 46,
   "id": "e18efa15",
   "metadata": {},
   "outputs": [],
   "source": [
    "def xor_linear(x) :\n",
    "    n1 =XOR(np.array([x[0] ,x[1]]))\n",
    "    n2 =XOR(np.array([n1,x[2]]))\n",
    "    n3 =XOR(np.array([n2,x[3]]))\n",
    "    return n3"
   ]
  },
  {
   "cell_type": "code",
   "execution_count": 69,
   "id": "6c05d35b",
   "metadata": {},
   "outputs": [],
   "source": [
    "def genericXOR (x):\n",
    "    n1 =XOR(np.array([x[0] ,x[1]]))\n",
    "    if len(x)==2 :return n1\n",
    "    for a in (2,len(x)-1):\n",
    "        n1 =XOR(np.array([n1  , x[a] ]))\n",
    "    \n",
    "    return n1"
   ]
  },
  {
   "cell_type": "code",
   "execution_count": 70,
   "id": "c808b269",
   "metadata": {},
   "outputs": [
    {
     "name": "stdout",
     "output_type": "stream",
     "text": [
      "xor[0, 0] = 0\n",
      "xor[0, 1] = 1\n",
      "xor[1, 0] = 1\n",
      "xor[1, 1] = 0\n"
     ]
    }
   ],
   "source": [
    "X =[[a,b] for a in range(2) for b in range(2)   ]\n",
    "\n",
    "for x in X :\n",
    "    print(f'xor{x} = {genericXOR(x)}')"
   ]
  },
  {
   "cell_type": "code",
   "execution_count": 47,
   "id": "1e711c5f",
   "metadata": {},
   "outputs": [
    {
     "name": "stdout",
     "output_type": "stream",
     "text": [
      "xor[0, 0, 0, 0] = 0\n",
      "xor[0, 0, 0, 1] = 1\n",
      "xor[0, 0, 1, 0] = 1\n",
      "xor[0, 0, 1, 1] = 0\n",
      "xor[0, 1, 0, 0] = 1\n",
      "xor[0, 1, 0, 1] = 0\n",
      "xor[0, 1, 1, 0] = 0\n",
      "xor[0, 1, 1, 1] = 1\n",
      "xor[1, 0, 0, 0] = 1\n",
      "xor[1, 0, 0, 1] = 0\n",
      "xor[1, 0, 1, 0] = 0\n",
      "xor[1, 0, 1, 1] = 1\n",
      "xor[1, 1, 0, 0] = 0\n",
      "xor[1, 1, 0, 1] = 1\n",
      "xor[1, 1, 1, 0] = 1\n",
      "xor[1, 1, 1, 1] = 0\n"
     ]
    }
   ],
   "source": [
    "for x in X :\n",
    "    print(f'xor{x} = {xor_linear(x)}')"
   ]
  },
  {
   "cell_type": "code",
   "execution_count": 48,
   "id": "7cf9de17",
   "metadata": {},
   "outputs": [],
   "source": [
    "def xor_log(x) :\n",
    "    n1 =XOR(np.array([ x[0],x[1] ]))\n",
    "    n2 =XOR(np.array( [ x[2] ,x[3] ] ))\n",
    "    n3 =XOR(np.array( [n1,n2] ))\n",
    "    return n3 \n"
   ]
  },
  {
   "cell_type": "code",
   "execution_count": null,
   "id": "8935faa8",
   "metadata": {},
   "outputs": [],
   "source": [
    "def genricXORLog(x):\n",
    "    arr =[]\n",
    "    if(len(x)==2):\n",
    "        return XOR(np.array(x))\n",
    "    \n",
    "    for a in range(0,len(x)-1 ,2):\n",
    "        n1 = XOR(np.array( [x[a] ,x[a+1]] ))\n",
    "        arr.append(n1)\n",
    "        \n",
    "    if(len(x)%2!=0 ):\n",
    "        arr.append(x[-1])\n",
    "    \n",
    "    return genricXORLog(arr)\n",
    "    \n",
    "            \n",
    "        \n",
    "    "
   ]
  },
  {
   "cell_type": "code",
   "execution_count": 95,
   "id": "fc937320",
   "metadata": {},
   "outputs": [
    {
     "name": "stdout",
     "output_type": "stream",
     "text": [
      "xor[0, 0, 0, 0, 1] = 1\n",
      "xor[0, 0, 0, 1, 0] = 1\n",
      "xor[0, 0, 1, 0, 0] = 1\n",
      "xor[0, 0, 1, 1, 1] = 1\n",
      "xor[0, 1, 0, 0, 0] = 1\n",
      "xor[0, 1, 0, 1, 1] = 1\n",
      "xor[0, 1, 1, 0, 1] = 1\n",
      "xor[0, 1, 1, 1, 0] = 1\n",
      "xor[1, 0, 0, 0, 0] = 1\n",
      "xor[1, 0, 0, 1, 1] = 1\n",
      "xor[1, 0, 1, 0, 1] = 1\n",
      "xor[1, 0, 1, 1, 0] = 1\n",
      "xor[1, 1, 0, 0, 1] = 1\n",
      "xor[1, 1, 0, 1, 0] = 1\n",
      "xor[1, 1, 1, 0, 0] = 1\n",
      "xor[1, 1, 1, 1, 1] = 1\n"
     ]
    }
   ],
   "source": [
    "X =[[a,b,c,d,e] for a in range(2) for b in range(2) for c in range(2) for d in range(2) for e in range(2)  ]\n",
    "\n",
    "for x in X :\n",
    "    if genricXORLog(x) ==1 :\n",
    "        print(f'xor{x} = {genricXORLog(x)}')"
   ]
  },
  {
   "cell_type": "code",
   "execution_count": 76,
   "id": "5dbe116a",
   "metadata": {},
   "outputs": [
    {
     "name": "stdout",
     "output_type": "stream",
     "text": [
      "xor[0, 0, 0, 0] = 0\n",
      "xor[0, 0, 0, 1] = 1\n",
      "xor[0, 0, 1, 0] = 1\n",
      "xor[0, 0, 1, 1] = 0\n",
      "xor[0, 1, 0, 0] = 1\n",
      "xor[0, 1, 0, 1] = 0\n",
      "xor[0, 1, 1, 0] = 0\n",
      "xor[0, 1, 1, 1] = 1\n",
      "xor[1, 0, 0, 0] = 1\n",
      "xor[1, 0, 0, 1] = 0\n",
      "xor[1, 0, 1, 0] = 0\n",
      "xor[1, 0, 1, 1] = 1\n",
      "xor[1, 1, 0, 0] = 0\n",
      "xor[1, 1, 0, 1] = 1\n",
      "xor[1, 1, 1, 0] = 1\n",
      "xor[1, 1, 1, 1] = 0\n"
     ]
    }
   ],
   "source": [
    "X =[[a,b,c,d] for a in range(2) for b in range(2) for c in range(2) for d in range(2)  ]\n",
    "\n",
    "for x in X :\n",
    "    print(f'xor{x} = {xor_log(x)}')"
   ]
  },
  {
   "cell_type": "code",
   "execution_count": null,
   "id": "669db39d",
   "metadata": {},
   "outputs": [
    {
     "name": "stdout",
     "output_type": "stream",
     "text": [
      "[2, 3, [5, 4]]\n"
     ]
    }
   ],
   "source": [
    "a = [1,2,3]\n",
    "a.append([5,4])\n",
    "print(a[-3:])"
   ]
  }
 ],
 "metadata": {
  "kernelspec": {
   "display_name": "Python 3",
   "language": "python",
   "name": "python3"
  },
  "language_info": {
   "codemirror_mode": {
    "name": "ipython",
    "version": 3
   },
   "file_extension": ".py",
   "mimetype": "text/x-python",
   "name": "python",
   "nbconvert_exporter": "python",
   "pygments_lexer": "ipython3",
   "version": "3.10.12"
  }
 },
 "nbformat": 4,
 "nbformat_minor": 5
}
