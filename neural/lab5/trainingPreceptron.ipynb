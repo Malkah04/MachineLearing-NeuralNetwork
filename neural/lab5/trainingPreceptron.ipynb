{
 "cells": [
  {
   "cell_type": "code",
   "execution_count": 1,
   "id": "b61b5c01",
   "metadata": {},
   "outputs": [
    {
     "name": "stderr",
     "output_type": "stream",
     "text": [
      "/home/malak/.local/lib/python3.10/site-packages/matplotlib/projections/__init__.py:63: UserWarning: Unable to import Axes3D. This may be due to multiple versions of Matplotlib being installed (e.g. as a system package and as a pip package). As a result, the 3D projection is not available.\n",
      "  warnings.warn(\"Unable to import Axes3D. This may be due to multiple versions of \"\n"
     ]
    }
   ],
   "source": [
    "import numpy as np\n",
    "import matplotlib.pyplot as plt"
   ]
  },
  {
   "cell_type": "code",
   "execution_count": 2,
   "id": "51b0ba81",
   "metadata": {},
   "outputs": [],
   "source": [
    "class Preceptron :\n",
    "    def __init__(self,input_size):\n",
    "        self.weights = np.zeros(input_size)\n",
    "        self.bias =0\n",
    "            \n",
    "    @staticmethod\n",
    "    def step(x) :\n",
    "        return 1 if x>=0 else 0\n",
    "    \n",
    "    def predict(self,x):\n",
    "        return Preceptron.step(x @ self.weights + self.bias)\n",
    "    \n",
    "    \n",
    "    def train(self ,X ,t):\n",
    "        for _ in range(10):\n",
    "            for i,x in enumerate(X):\n",
    "                y_predict =self.predict(x)\n",
    "                self.weights = self.weights + (t[i]-y_predict) * x\n",
    "                self.bias = self.bias + (t[i]-y_predict)\n",
    "\n",
    "\n",
    "    \n",
    "    "
   ]
  },
  {
   "cell_type": "code",
   "execution_count": 3,
   "id": "0ce70732",
   "metadata": {},
   "outputs": [
    {
     "name": "stdout",
     "output_type": "stream",
     "text": [
      "[1. 1.], weights\n",
      "-1, bias\n",
      " x :[0 0]  , 0  \n",
      " x :[0 1]  , 1  \n",
      " x :[1 0]  , 1  \n",
      " x :[1 1]  , 1  \n"
     ]
    }
   ],
   "source": [
    "X = [[a,b] for a in range(2) for b in range(2)]\n",
    "\n",
    "X =np.array(X)\n",
    "\n",
    "or_output = np.array([0,1,1,1])\n",
    "\n",
    "\n",
    "OR_F = Preceptron(2)\n",
    "\n",
    "OR_F.train(X ,or_output)\n",
    "\n",
    "print(f\"{OR_F.weights}, weights\")\n",
    "\n",
    "print(f\"{OR_F.bias }, bias\")\n",
    "for x in X :\n",
    "    print(f\" x :{x}  , {OR_F.predict(x)}  \")"
   ]
  },
  {
   "cell_type": "code",
   "execution_count": 4,
   "id": "177a8337",
   "metadata": {},
   "outputs": [],
   "source": [
    "def calcLine( x1 ,y1 ,x2 ,y2 ):\n",
    "    m  = (y2-y1) /(x2-x1)\n",
    "    y =  f\" {m}x - {-m*x1} +{y1} \"\n",
    "    \n",
    "    mX1 = -m\n",
    "    mX2 =1\n",
    "    bias= -y1 + m *x1\n",
    "    return  np.array([mX1 ,mX2 ,bias])"
   ]
  },
  {
   "cell_type": "code",
   "execution_count": 5,
   "id": "d8050396",
   "metadata": {},
   "outputs": [
    {
     "name": "stdout",
     "output_type": "stream",
     "text": [
      "w1 1.0\n",
      "w2 1.0\n",
      "b -1.0\n"
     ]
    }
   ],
   "source": [
    "# line 1\n",
    "a= calcLine(1,0,0,1)\n",
    "print(\"w1\",a[0])\n",
    "print( \"w2\",a[1])\n",
    "print(\"b\",a[2])\n"
   ]
  },
  {
   "cell_type": "code",
   "execution_count": 6,
   "id": "796272a6",
   "metadata": {},
   "outputs": [
    {
     "name": "stdout",
     "output_type": "stream",
     "text": [
      "w1 -1.0\n",
      "w2 1.0\n",
      "b 1.0\n"
     ]
    }
   ],
   "source": [
    "# line 2\n",
    "b =calcLine(1,0,0,-1)\n",
    "print(\"w1\",b[0])\n",
    "print( \"w2\",b[1])\n",
    "print(\"b\",b[2])\n",
    " \n"
   ]
  },
  {
   "cell_type": "code",
   "execution_count": 7,
   "id": "83553cca",
   "metadata": {},
   "outputs": [
    {
     "name": "stdout",
     "output_type": "stream",
     "text": [
      "w1 -1.0\n",
      "w2 1.0\n",
      "b -1.0\n"
     ]
    }
   ],
   "source": [
    "# line 3\n",
    "c =calcLine(0,1,-1,0)\n",
    "print(\"w1\",c[0])\n",
    "print( \"w2\",c[1])\n",
    "print(\"b\",c[2])\n",
    "\n"
   ]
  },
  {
   "cell_type": "code",
   "execution_count": 8,
   "id": "0b7b9494",
   "metadata": {},
   "outputs": [
    {
     "name": "stdout",
     "output_type": "stream",
     "text": [
      "w1 1.0\n",
      "w2 1.0\n",
      "b 1.0\n"
     ]
    }
   ],
   "source": [
    "# line 4\n",
    "d =calcLine(-1,0,0,-1)\n",
    "print(\"w1\",d[0])\n",
    "print( \"w2\",d[1])\n",
    "print(\"b\",d[2])\n",
    "\n"
   ]
  },
  {
   "cell_type": "code",
   "execution_count": 9,
   "id": "11b2c723",
   "metadata": {},
   "outputs": [
    {
     "name": "stdout",
     "output_type": "stream",
     "text": [
      "[0 1 2 3 4 5 6 7 8 9]\n",
      "[ 1.  0. -1. -2. -3. -4. -5. -6. -7. -8.]\n"
     ]
    },
    {
     "data": {
      "image/png": "[encoded data removed]",
      "text/plain": [
       "<Figure size 432x288 with 1 Axes>"
      ]
     },
     "metadata": {
      "needs_background": "light"
     },
     "output_type": "display_data"
    }
   ],
   "source": [
    "X = np.array(range(10))\n",
    "print(X)\n",
    "# for x in X:\n",
    "y = (-a[0]*X -a[2])\n",
    "Y =np.array(y)\n",
    "print(Y)\n",
    "\n",
    "plt.plot(X ,Y)\n",
    "plt.xlabel(\"X\")\n",
    "plt.ylabel(\"y\")\n",
    "plt.grid(True)\n",
    "plt.show()\n"
   ]
  },
  {
   "cell_type": "code",
   "execution_count": 10,
   "id": "6f82c85d",
   "metadata": {},
   "outputs": [
    {
     "data": {
      "image/png": "[encoded data removed]",
      "text/plain": [
       "<Figure size 432x288 with 1 Axes>"
      ]
     },
     "metadata": {
      "needs_background": "light"
     },
     "output_type": "display_data"
    }
   ],
   "source": [
    "limitPoint = 6\n",
    "# Create a grid of points\n",
    "X = np.linspace(-limitPoint, limitPoint, 100)\n",
    "Y = np.linspace(-limitPoint, limitPoint, 100)\n",
    "X, Y = np.meshgrid(X, Y)\n",
    "Xf = X.flatten()\n",
    "Yf = Y.flatten()\n",
    "\n",
    "z = a[0]*X + a[1]*Y +a[2]\n",
    "z2 =b[0]*X + b[1]*Y +b[2]\n",
    "z3 =c[0]*X + c[1]*Y +c[2]\n",
    "z4 =d[0]*X + d[1]*Y +d[2]\n",
    "\n",
    "\n",
    "output  = (z  <= 0).astype(int)\n",
    "output2 = (z2 >= 0).astype(int)   \n",
    "output3 = (z3 <= 0).astype(int)\n",
    "output4 = (z4 >= 0).astype(int)\n",
    "\n",
    "\n",
    "# First plot all individual regions\n",
    "# plt.contourf(X, Y, output,  levels=[0.5, 1.5], colors=\"yellow\")\n",
    "plt.contourf(X, Y, output2, levels=[0.5, 1.5], colors=\"yellow\")\n",
    "# plt.contourf(X, Y, output3, levels=[0.5, 1.5], colors=\"yellow\")\n",
    "# plt.contourf(X, Y, output4, levels=[0.5, 1.5], colors=\"yellow\")\n",
    "\n",
    "\n",
    "plt.grid(True)\n",
    "ax = plt.gca()\n",
    "ax.spines['left'].set_position('center')\n",
    "ax.spines['bottom'].set_position('center')\n",
    "\n",
    "\n",
    "\n",
    "\n",
    "plt.show()"
   ]
  },
  {
   "cell_type": "code",
   "execution_count": 13,
   "id": "d858f428",
   "metadata": {},
   "outputs": [
    {
     "ename": "ValueError",
     "evalue": "operands could not be broadcast together with shapes (100,100) (2,) ",
     "output_type": "error",
     "traceback": [
      "\u001b[0;31m---------------------------------------------------------------------------\u001b[0m",
      "\u001b[0;31mValueError\u001b[0m                                Traceback (most recent call last)",
      "\u001b[0;32m/tmp/ipykernel_83405/433409455.py\u001b[0m in \u001b[0;36m<module>\u001b[0;34m\u001b[0m\n\u001b[1;32m      4\u001b[0m \u001b[0mpre\u001b[0m \u001b[0;34m=\u001b[0m\u001b[0mPreceptron\u001b[0m\u001b[0;34m(\u001b[0m\u001b[0;36m2\u001b[0m\u001b[0;34m)\u001b[0m\u001b[0;34m\u001b[0m\u001b[0;34m\u001b[0m\u001b[0m\n\u001b[1;32m      5\u001b[0m \u001b[0;34m\u001b[0m\u001b[0m\n\u001b[0;32m----> 6\u001b[0;31m \u001b[0mpre\u001b[0m\u001b[0;34m.\u001b[0m\u001b[0mtrain\u001b[0m\u001b[0;34m(\u001b[0m\u001b[0mnewpre\u001b[0m \u001b[0;34m,\u001b[0m\u001b[0mout_put\u001b[0m\u001b[0;34m)\u001b[0m\u001b[0;34m\u001b[0m\u001b[0;34m\u001b[0m\u001b[0m\n\u001b[0m\u001b[1;32m      7\u001b[0m \u001b[0;34m\u001b[0m\u001b[0m\n\u001b[1;32m      8\u001b[0m \u001b[0;34m\u001b[0m\u001b[0m\n",
      "\u001b[0;32m/tmp/ipykernel_83405/3078414340.py\u001b[0m in \u001b[0;36mtrain\u001b[0;34m(self, X, t)\u001b[0m\n\u001b[1;32m     16\u001b[0m             \u001b[0;32mfor\u001b[0m \u001b[0mi\u001b[0m\u001b[0;34m,\u001b[0m\u001b[0mx\u001b[0m \u001b[0;32min\u001b[0m \u001b[0menumerate\u001b[0m\u001b[0;34m(\u001b[0m\u001b[0mX\u001b[0m\u001b[0;34m)\u001b[0m\u001b[0;34m:\u001b[0m\u001b[0;34m\u001b[0m\u001b[0;34m\u001b[0m\u001b[0m\n\u001b[1;32m     17\u001b[0m                 \u001b[0my_predict\u001b[0m \u001b[0;34m=\u001b[0m\u001b[0mself\u001b[0m\u001b[0;34m.\u001b[0m\u001b[0mpredict\u001b[0m\u001b[0;34m(\u001b[0m\u001b[0mx\u001b[0m\u001b[0;34m)\u001b[0m\u001b[0;34m\u001b[0m\u001b[0;34m\u001b[0m\u001b[0m\n\u001b[0;32m---> 18\u001b[0;31m                 \u001b[0mself\u001b[0m\u001b[0;34m.\u001b[0m\u001b[0mweights\u001b[0m \u001b[0;34m=\u001b[0m \u001b[0mself\u001b[0m\u001b[0;34m.\u001b[0m\u001b[0mweights\u001b[0m \u001b[0;34m+\u001b[0m \u001b[0;34m(\u001b[0m\u001b[0mt\u001b[0m\u001b[0;34m[\u001b[0m\u001b[0mi\u001b[0m\u001b[0;34m]\u001b[0m\u001b[0;34m-\u001b[0m\u001b[0my_predict\u001b[0m\u001b[0;34m)\u001b[0m \u001b[0;34m*\u001b[0m \u001b[0mx\u001b[0m\u001b[0;34m\u001b[0m\u001b[0;34m\u001b[0m\u001b[0m\n\u001b[0m\u001b[1;32m     19\u001b[0m                 \u001b[0mself\u001b[0m\u001b[0;34m.\u001b[0m\u001b[0mbias\u001b[0m \u001b[0;34m=\u001b[0m \u001b[0mself\u001b[0m\u001b[0;34m.\u001b[0m\u001b[0mbias\u001b[0m \u001b[0;34m+\u001b[0m \u001b[0;34m(\u001b[0m\u001b[0mt\u001b[0m\u001b[0;34m[\u001b[0m\u001b[0mi\u001b[0m\u001b[0;34m]\u001b[0m\u001b[0;34m-\u001b[0m\u001b[0my_predict\u001b[0m\u001b[0;34m)\u001b[0m\u001b[0;34m\u001b[0m\u001b[0;34m\u001b[0m\u001b[0m\n\u001b[1;32m     20\u001b[0m \u001b[0;34m\u001b[0m\u001b[0m\n",
      "\u001b[0;31mValueError\u001b[0m: operands could not be broadcast together with shapes (100,100) (2,) "
     ]
    }
   ],
   "source": [
    "newpre = np.array([np.array([a[0] ,a[1]]), np.array([b[0] ,b[1]]),np.array([c[0] ,c[1]]),np.array([d[0] ,d[1]]), ])\n",
    "out_put = np.array([output,output2,output3,output4])\n",
    "\n",
    "pre =Preceptron(2)\n",
    "\n",
    "pre.train(newpre ,out_put)\n",
    "\n",
    "\n",
    "\n",
    "print(f\"{pre.weights}, weights\")\n",
    "\n",
    "print(f\"{pre.bias }, bias\")\n",
    "for x in newpre :\n",
    "    print(f\" x :{x}  , {pre.predict(x)}  \")"
   ]
  }
 ],
 "metadata": {
  "kernelspec": {
   "display_name": "Python 3",
   "language": "python",
   "name": "python3"
  },
  "language_info": {
   "codemirror_mode": {
    "name": "ipython",
    "version": 3
   },
   "file_extension": ".py",
   "mimetype": "text/x-python",
   "name": "python",
   "nbconvert_exporter": "python",
   "pygments_lexer": "ipython3",
   "version": "3.10.12"
  }
 },
 "nbformat": 4,
 "nbformat_minor": 5
}
