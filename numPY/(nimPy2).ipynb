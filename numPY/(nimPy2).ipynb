{
 "cells": [
  {
   "cell_type": "code",
   "execution_count": 13,
   "id": "3c99e55b",
   "metadata": {},
   "outputs": [],
   "source": [
    "import numpy as np\n"
   ]
  },
  {
   "cell_type": "code",
   "execution_count": 8,
   "id": "86d4198f",
   "metadata": {},
   "outputs": [
    {
     "name": "stdout",
     "output_type": "stream",
     "text": [
      "1000000 1000000\n",
      "\n",
      "0.10652589797973633\n"
     ]
    }
   ],
   "source": [
    "import time\n",
    "\n",
    "l1 =list(range(1000000))\n",
    "l2 =list(range(2000000,3000000))\n",
    "\n",
    "print(len(l1) ,len(l2))\n",
    "sum=0\n",
    "start =time.time()\n",
    "\n",
    "for a,b in zip(l1,l2):\n",
    "    sum +=b-a\n",
    "\n",
    "end =time.time()\n",
    "print()\n",
    "print(end-start)"
   ]
  },
  {
   "cell_type": "markdown",
   "id": "1f87a7b4",
   "metadata": {},
   "source": [
    "### asarray convert list to np.array"
   ]
  },
  {
   "cell_type": "code",
   "execution_count": 12,
   "id": "1eabccb7",
   "metadata": {},
   "outputs": [
    {
     "name": "stdout",
     "output_type": "stream",
     "text": [
      "0.005593776702880859\n"
     ]
    }
   ],
   "source": [
    "aa =np.asarray(l1)\n",
    "bb= np.asarray(l2)\n",
    "start =time.time()\n",
    "res=np.sum(aa -bb)\n",
    "end =time.time()\n",
    "\n",
    "print(end-start)\n",
    "\n",
    "\n"
   ]
  },
  {
   "cell_type": "code",
   "execution_count": null,
   "id": "ffc21c70",
   "metadata": {},
   "outputs": [],
   "source": []
  }
 ],
 "metadata": {
  "kernelspec": {
   "display_name": "Python 3",
   "language": "python",
   "name": "python3"
  },
  "language_info": {
   "codemirror_mode": {
    "name": "ipython",
    "version": 3
   },
   "file_extension": ".py",
   "mimetype": "text/x-python",
   "name": "python",
   "nbconvert_exporter": "python",
   "pygments_lexer": "ipython3",
   "version": "3.10.12"
  }
 },
 "nbformat": 4,
 "nbformat_minor": 5
}
