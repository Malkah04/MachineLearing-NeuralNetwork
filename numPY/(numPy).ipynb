{
 "cells": [
  {
   "cell_type": "code",
   "execution_count": 1,
   "id": "3bace220",
   "metadata": {},
   "outputs": [],
   "source": [
    "import numpy as np"
   ]
  },
  {
   "cell_type": "code",
   "execution_count": 2,
   "id": "49175ccf",
   "metadata": {},
   "outputs": [
    {
     "name": "stdout",
     "output_type": "stream",
     "text": [
      "[[1 6 3]\n",
      " [7 3 1]]\n",
      "(2, 3)\n",
      "2\n",
      "int64\n"
     ]
    }
   ],
   "source": [
    "x = np.array([\n",
    "    [1,6,3] ,\n",
    "    [7,3,1]\n",
    "    ])\n",
    "print(x)\n",
    "# مصفوفه كام ف كام الشيب بترجعه\n",
    "print(x.shape)\n",
    "print(x.ndim)\n",
    "\n",
    "print(x.dtype)\n",
    "\n"
   ]
  },
  {
   "cell_type": "markdown",
   "id": "6e0ca720",
   "metadata": {},
   "source": [
    "## get unique value as set"
   ]
  },
  {
   "cell_type": "code",
   "execution_count": null,
   "id": "4125ab80",
   "metadata": {},
   "outputs": [],
   "source": [
    "np.unique(arr)"
   ]
  },
  {
   "cell_type": "markdown",
   "id": "914881e5",
   "metadata": {},
   "source": []
  },
  {
   "cell_type": "code",
   "execution_count": 6,
   "id": "3bc50a60",
   "metadata": {},
   "outputs": [
    {
     "name": "stdout",
     "output_type": "stream",
     "text": [
      "(3,)\n",
      "int64\n"
     ]
    }
   ],
   "source": [
    "x2 =np.array([10,20,30])\n",
    "print(x2.shape)\n",
    "print(x2.dtype)"
   ]
  },
  {
   "cell_type": "code",
   "execution_count": 11,
   "id": "7f772b89",
   "metadata": {},
   "outputs": [
    {
     "name": "stdout",
     "output_type": "stream",
     "text": [
      "[[0. 0. 0.]\n",
      " [0. 0. 0.]]\n"
     ]
    }
   ],
   "source": [
    "y = np.zeros((2,3))\n",
    "print(y)"
   ]
  },
  {
   "cell_type": "code",
   "execution_count": 14,
   "id": "b4441206",
   "metadata": {},
   "outputs": [
    {
     "name": "stdout",
     "output_type": "stream",
     "text": [
      "[[1. 0. 0.]\n",
      " [0. 1. 0.]\n",
      " [0. 0. 1.]]\n"
     ]
    }
   ],
   "source": [
    "y =np.eye((3))\n",
    "print(y)"
   ]
  },
  {
   "cell_type": "code",
   "execution_count": 18,
   "id": "e8c893df",
   "metadata": {},
   "outputs": [
    {
     "name": "stdout",
     "output_type": "stream",
     "text": [
      "[0 3 6 9]\n"
     ]
    }
   ],
   "source": [
    "x = np.arange(0, 10,3)\n",
    "print(x)"
   ]
  },
  {
   "cell_type": "code",
   "execution_count": null,
   "id": "771abd4a",
   "metadata": {},
   "outputs": [
    {
     "name": "stdout",
     "output_type": "stream",
     "text": [
      "[1 2 4]\n",
      "20\n",
      "[10  1  1]\n",
      "[[20 30]\n",
      " [ 2  4]]\n",
      "[[10 20 30  1  2  4  1  2  3]]\n"
     ]
    }
   ],
   "source": [
    "x = np.array([\n",
    "    [10,20,30],\n",
    "    [1,2,4],\n",
    "    [1,2,3]\n",
    "])\n",
    "\n",
    "print(x[1 ,:])\n",
    "print(x[0,1])\n",
    "print(x[:, 0])\n",
    "print(x [0:2 , 1:3])\n"
   ]
  },
  {
   "cell_type": "markdown",
   "id": "ab0bb192",
   "metadata": {},
   "source": [
    "## return array of the same size of the origin(x) but bool"
   ]
  },
  {
   "cell_type": "code",
   "execution_count": null,
   "id": "8872ba75",
   "metadata": {},
   "outputs": [
    {
     "name": "stdout",
     "output_type": "stream",
     "text": [
      "[[False  True  True]\n",
      " [False False False]\n",
      " [False False False]]\n"
     ]
    }
   ],
   "source": [
    "# mask \n",
    "print(x>10) "
   ]
  },
  {
   "cell_type": "markdown",
   "id": "52f2343c",
   "metadata": {},
   "source": [
    "## return array of element that satisfy mask (condition) (x>10)"
   ]
  },
  {
   "cell_type": "code",
   "execution_count": 26,
   "id": "0b7eeea8",
   "metadata": {},
   "outputs": [
    {
     "name": "stdout",
     "output_type": "stream",
     "text": [
      "[20 30]\n"
     ]
    }
   ],
   "source": [
    "print(x[x>10])"
   ]
  },
  {
   "cell_type": "markdown",
   "id": "e5863416",
   "metadata": {},
   "source": [
    "## change in the copy here not reflect in the original matrix"
   ]
  },
  {
   "cell_type": "code",
   "execution_count": 31,
   "id": "c90b6f61",
   "metadata": {},
   "outputs": [
    {
     "name": "stdout",
     "output_type": "stream",
     "text": [
      "[[10 20 30]\n",
      " [ 1  2  4]\n",
      " [ 1  2  3]]\n",
      "\n",
      "[10 20 30]\n",
      "\n",
      "[100000     20     30]\n",
      "\n",
      "[[10 20 30]\n",
      " [ 1  2  4]\n",
      " [ 1  2  3]]\n"
     ]
    }
   ],
   "source": [
    "x2 =x[0 ,:].copy()\n",
    "print(x)\n",
    "print()\n",
    "print(x2)\n",
    "x2[0]=100000\n",
    "print()\n",
    "print(x2)\n",
    "print()\n",
    "print(x)\n"
   ]
  },
  {
   "cell_type": "markdown",
   "id": "7a01b86e",
   "metadata": {},
   "source": [
    "## so view => when change in the view the changes reflect in the original too\n",
    "\n",
    "## but copy => not "
   ]
  },
  {
   "cell_type": "code",
   "execution_count": 33,
   "id": "734393fe",
   "metadata": {},
   "outputs": [
    {
     "name": "stdout",
     "output_type": "stream",
     "text": [
      "[ 4 20 30]\n",
      "\n",
      "[[ 4 20 30]\n",
      " [ 1  2  4]\n",
      " [ 1  2  3]]\n",
      "\n"
     ]
    }
   ],
   "source": [
    "x3 =x[0,:].view()\n",
    "\n",
    "x3[0]=4\n",
    "\n",
    "print(x3)\n",
    "print()\n",
    "\n",
    "print(x)\n",
    "print()"
   ]
  },
  {
   "cell_type": "markdown",
   "id": "50cf6b14",
   "metadata": {},
   "source": [
    "## reshape if matrix nXm so n*m =k , \n",
    "مثال احسن \n",
    "لو ماتركس 2 *6 \n",
    "ضربهم 12 \n",
    "ف لازم اي رقمين تانين يكون ضربهم اتناشر \n",
    "زي 3*4 \n"
   ]
  },
  {
   "cell_type": "code",
   "execution_count": null,
   "id": "35ab72f5",
   "metadata": {},
   "outputs": [
    {
     "name": "stdout",
     "output_type": "stream",
     "text": [
      "[ 2  2  2  2  2  1  2  3  4  5 10  9  8  7  6]\n",
      "\n",
      "[[ 2  2  2]\n",
      " [ 2  2  1]\n",
      " [ 2  3  4]\n",
      " [ 5 10  9]\n",
      " [ 8  7  6]]\n"
     ]
    }
   ],
   "source": [
    "x = np.array([\n",
    "    [2,2,2,2,2],\n",
    "    [1,2,3,4,5],\n",
    "    [10,9,8,7,6]\n",
    "])\n",
    "\n",
    "print()\n",
    "\n",
    "print(x.reshape(5,3))"
   ]
  },
  {
   "cell_type": "markdown",
   "id": "ce2422cf",
   "metadata": {},
   "source": [
    "## -1 make it as a one row"
   ]
  },
  {
   "cell_type": "code",
   "execution_count": 18,
   "id": "19d1bc74",
   "metadata": {},
   "outputs": [
    {
     "name": "stdout",
     "output_type": "stream",
     "text": [
      "[[10 20 30 40]]\n"
     ]
    }
   ],
   "source": [
    "\n",
    "print(x.reshape(1,-1))  "
   ]
  },
  {
   "cell_type": "markdown",
   "id": "b763bde8",
   "metadata": {},
   "source": [
    "## (-1,1) make it as a one column"
   ]
  },
  {
   "cell_type": "code",
   "execution_count": null,
   "id": "5679e1dd",
   "metadata": {},
   "outputs": [
    {
     "name": "stdout",
     "output_type": "stream",
     "text": [
      "[[ 2]\n",
      " [ 2]\n",
      " [ 2]\n",
      " [ 2]\n",
      " [ 2]\n",
      " [ 1]\n",
      " [ 2]\n",
      " [ 3]\n",
      " [ 4]\n",
      " [ 5]\n",
      " [10]\n",
      " [ 9]\n",
      " [ 8]\n",
      " [ 7]\n",
      " [ 6]]\n"
     ]
    }
   ],
   "source": [
    "\n",
    "print(x.reshape(-1,1))\n"
   ]
  },
  {
   "cell_type": "markdown",
   "id": "9d08b8fe",
   "metadata": {},
   "source": [
    "## element-wise operations"
   ]
  },
  {
   "cell_type": "code",
   "execution_count": 13,
   "id": "8b7f3dd3",
   "metadata": {},
   "outputs": [
    {
     "name": "stdout",
     "output_type": "stream",
     "text": [
      "[5 6 7]\n",
      "[5 4 7]\n"
     ]
    }
   ],
   "source": [
    "y =np.array([\n",
    "    [1,2,3],\n",
    "    [3,4,5],\n",
    "    [6,8,7]\n",
    "])\n",
    "\n",
    "z =np.array([\n",
    "    [5,4,3],\n",
    "    [2,3,4],\n",
    "    [1,6,7]\n",
    "])\n",
    "\n",
    "print(np.max(z,axis=0)) # get max of each col \n",
    "print(np.max(z,axis=1)) # get max of each row  \n",
    " \n",
    "# # adding\n",
    "# x =y+z\n",
    "# print(x)\n",
    "\n",
    "# print()\n",
    "# x= y*z\n",
    "# print(x)"
   ]
  },
  {
   "cell_type": "markdown",
   "id": "309ee7b3",
   "metadata": {},
   "source": [
    "## Matrix Multiplication"
   ]
  },
  {
   "cell_type": "code",
   "execution_count": 7,
   "id": "43cf4627",
   "metadata": {},
   "outputs": [
    {
     "name": "stdout",
     "output_type": "stream",
     "text": [
      "(2, 3)\n",
      "(3, 4)\n",
      "\n",
      "[[ 9 14 28 33]\n",
      " [ 5  7 12 14]]\n"
     ]
    }
   ],
   "source": [
    "x=np.array([\n",
    "    [1,2,3],\n",
    "    [1,1,1]\n",
    "])\n",
    "\n",
    "y=np.array([\n",
    "    [2,2,2,2],\n",
    "    [2,3,4,5],\n",
    "    [1,2,6,7]\n",
    "])\n",
    "\n",
    "print(x.shape)\n",
    "print(y.shape)\n",
    "\n",
    "print()\n",
    "\n",
    "z=np.dot(x,y)\n",
    "print(z)"
   ]
  },
  {
   "cell_type": "markdown",
   "id": "0b92c12b",
   "metadata": {},
   "source": [
    "## sum all element in matrix"
   ]
  },
  {
   "cell_type": "code",
   "execution_count": 8,
   "id": "8553fff4",
   "metadata": {},
   "outputs": [
    {
     "name": "stdout",
     "output_type": "stream",
     "text": [
      "9\n"
     ]
    }
   ],
   "source": [
    "print(x.sum())"
   ]
  },
  {
   "cell_type": "markdown",
   "id": "57f91ddf",
   "metadata": {},
   "source": [
    "## sum each column when axis=0"
   ]
  },
  {
   "cell_type": "code",
   "execution_count": null,
   "id": "facd92ff",
   "metadata": {},
   "outputs": [
    {
     "name": "stdout",
     "output_type": "stream",
     "text": [
      "[[2 3 4]]\n"
     ]
    }
   ],
   "source": [
    "print(x.sum(axis=0 , keepdims=True))"
   ]
  },
  {
   "cell_type": "markdown",
   "id": "0197c39e",
   "metadata": {},
   "source": [
    "## sum each row when axis=1"
   ]
  },
  {
   "cell_type": "code",
   "execution_count": 11,
   "id": "fa6ebd6a",
   "metadata": {},
   "outputs": [
    {
     "name": "stdout",
     "output_type": "stream",
     "text": [
      "[[6]\n",
      " [3]]\n"
     ]
    }
   ],
   "source": [
    "print(x.sum(axis=1 , keepdims=True))"
   ]
  },
  {
   "cell_type": "markdown",
   "id": "9438bc73",
   "metadata": {},
   "source": [
    "## exponent (e power each item in array ) & log10"
   ]
  },
  {
   "cell_type": "code",
   "execution_count": 13,
   "id": "b6757c9c",
   "metadata": {},
   "outputs": [
    {
     "name": "stdout",
     "output_type": "stream",
     "text": [
      "[[ 2.71828183  7.3890561  20.08553692]\n",
      " [ 2.71828183  2.71828183  2.71828183]]\n",
      "\n",
      "[[0.         0.30103    0.47712125]\n",
      " [0.         0.         0.        ]]\n"
     ]
    }
   ],
   "source": [
    "a =np.exp(x)\n",
    "print(a)\n",
    "\n",
    "print()\n",
    "a= np.log10(x)\n",
    "print(a)"
   ]
  },
  {
   "cell_type": "markdown",
   "id": "d273d5c1",
   "metadata": {},
   "source": [
    "## Broadcasting"
   ]
  },
  {
   "cell_type": "code",
   "execution_count": 14,
   "id": "71692058",
   "metadata": {},
   "outputs": [
    {
     "name": "stdout",
     "output_type": "stream",
     "text": [
      "[21 41 61 81]\n"
     ]
    }
   ],
   "source": [
    "x =np.array([10,20,30,40])\n",
    "\n",
    "y =x*2 +1\n",
    "print(y)"
   ]
  },
  {
   "cell_type": "markdown",
   "id": "3bbeb655",
   "metadata": {},
   "source": [
    "## give me a random value range of 0 to 9 and make a matrix 2 ,3"
   ]
  },
  {
   "cell_type": "code",
   "execution_count": null,
   "id": "1105dded",
   "metadata": {},
   "outputs": [
    {
     "name": "stdout",
     "output_type": "stream",
     "text": [
      "[[2 7 1]\n",
      " [1 4 0]]\n"
     ]
    }
   ],
   "source": [
    "\n",
    "x =np.random.randint(10 ,size=(2,3))\n",
    "print(x)"
   ]
  },
  {
   "cell_type": "markdown",
   "id": "f3cd7d7e",
   "metadata": {},
   "source": [
    "## random.random ramge(0 :1)"
   ]
  },
  {
   "cell_type": "code",
   "execution_count": 21,
   "id": "b9a98d53",
   "metadata": {},
   "outputs": [
    {
     "name": "stdout",
     "output_type": "stream",
     "text": [
      "[[0.24308013 0.91582205 0.45751568 0.87169742 0.78369624 0.81171713\n",
      "  0.26394004 0.9779277  0.08429476 0.59392751]\n",
      " [0.76980972 0.9374026  0.27407617 0.27158149 0.56950029 0.25706904\n",
      "  0.92790733 0.07197195 0.58926856 0.42197682]\n",
      " [0.43899111 0.02695452 0.23600405 0.60221395 0.07804118 0.61179198\n",
      "  0.69778672 0.69148816 0.83570858 0.04468759]\n",
      " [0.66551688 0.01100264 0.56201622 0.61899301 0.73841305 0.08712251\n",
      "  0.1253837  0.43500846 0.86459259 0.67422954]\n",
      " [0.2753628  0.77592701 0.03355653 0.20462603 0.94912278 0.9918761\n",
      "  0.22468949 0.57792692 0.64925193 0.79041564]\n",
      " [0.72991803 0.57515346 0.48278411 0.80126171 0.45565378 0.93422947\n",
      "  0.95399345 0.3328421  0.59342607 0.24754096]\n",
      " [0.09802868 0.40037905 0.87485291 0.69455972 0.09932156 0.67941778\n",
      "  0.94247331 0.17807806 0.78716595 0.67577682]\n",
      " [0.62503331 0.71402392 0.82706627 0.55654442 0.46258383 0.4492073\n",
      "  0.87938401 0.83793061 0.0647897  0.39008225]\n",
      " [0.5986845  0.70768614 0.25312871 0.62173687 0.64076729 0.98955536\n",
      "  0.63725954 0.12993121 0.16694424 0.89704634]\n",
      " [0.76225296 0.85569024 0.73964205 0.77805299 0.61114023 0.90299776\n",
      "  0.33479835 0.6204918  0.39879251 0.59377291]]\n"
     ]
    }
   ],
   "source": [
    "\n",
    "x = np.random.random(size=(10,10))\n",
    "print(x)"
   ]
  },
  {
   "cell_type": "markdown",
   "id": "df530d5a",
   "metadata": {},
   "source": [
    "## normal distribution"
   ]
  },
  {
   "cell_type": "code",
   "execution_count": 22,
   "id": "ca998c32",
   "metadata": {},
   "outputs": [
    {
     "name": "stdout",
     "output_type": "stream",
     "text": [
      "[[-0.27587415 -0.34622428 -1.06759558  1.44667319]\n",
      " [-0.11367603 -1.35793171  0.23980371  0.23708532]]\n"
     ]
    }
   ],
   "source": [
    "x=np.random.normal(size=(2,4))\n",
    "print(x)"
   ]
  },
  {
   "cell_type": "markdown",
   "id": "e07de4ff",
   "metadata": {},
   "source": [
    "## logical operation"
   ]
  },
  {
   "cell_type": "code",
   "execution_count": 24,
   "id": "c2d65c2e",
   "metadata": {},
   "outputs": [
    {
     "name": "stdout",
     "output_type": "stream",
     "text": [
      "[[False  True False]\n",
      " [False False False]]\n",
      "\n",
      "[[ True  True  True]\n",
      " [ True  True  True]]\n"
     ]
    }
   ],
   "source": [
    "x1 =np.array([\n",
    "    [True ,True ,False],\n",
    "    [False ,True ,False]\n",
    "])\n",
    "\n",
    "x2=np.array([\n",
    "    [False ,True ,True],\n",
    "    [True ,False ,True]\n",
    "])\n",
    "\n",
    "y= np.logical_and(x1,x2)\n",
    "\n",
    "print(y )\n",
    "print()\n",
    "y=np.logical_or(x1,x2)\n",
    "print(y )\n"
   ]
  },
  {
   "cell_type": "code",
   "execution_count": 2,
   "id": "ebb719dc",
   "metadata": {},
   "outputs": [
    {
     "name": "stdout",
     "output_type": "stream",
     "text": [
      "[[0.24878704]\n",
      " [0.57285874]\n",
      " [0.10807331]\n",
      " [0.9607552 ]\n",
      " [0.2840072 ]\n",
      " [0.51113668]\n",
      " [0.70571146]\n",
      " [0.05529631]\n",
      " [0.80298057]\n",
      " [0.28270951]\n",
      " [0.41883014]\n",
      " [0.12910513]\n",
      " [0.37137096]\n",
      " [0.26057233]\n",
      " [0.53944307]\n",
      " [0.8986884 ]\n",
      " [0.43366619]\n",
      " [0.32960185]\n",
      " [0.7477012 ]\n",
      " [0.67892978]\n",
      " [0.14561273]\n",
      " [0.8398134 ]\n",
      " [0.30231246]\n",
      " [0.78342463]\n",
      " [0.41974078]\n",
      " [0.56842288]\n",
      " [0.88147869]\n",
      " [0.38663908]\n",
      " [0.02115244]\n",
      " [0.08943526]\n",
      " [0.47115109]\n",
      " [0.61035027]\n",
      " [0.04297467]\n",
      " [0.08479188]\n",
      " [0.89184924]\n",
      " [0.4532498 ]\n",
      " [0.44699347]\n",
      " [0.18713007]\n",
      " [0.45018668]\n",
      " [0.13226546]\n",
      " [0.02671894]\n",
      " [0.02890244]\n",
      " [0.62649733]\n",
      " [0.67107442]\n",
      " [0.84537968]\n",
      " [0.35642461]\n",
      " [0.95096208]\n",
      " [0.13812927]\n",
      " [0.98495151]\n",
      " [0.14254066]\n",
      " [0.30632007]\n",
      " [0.11163233]\n",
      " [0.10361335]\n",
      " [0.21273215]\n",
      " [0.76402249]\n",
      " [0.52031626]\n",
      " [0.2341547 ]\n",
      " [0.86230423]\n",
      " [0.31792238]\n",
      " [0.18692961]\n",
      " [0.48286855]\n",
      " [0.55591829]\n",
      " [0.69735502]\n",
      " [0.50876094]\n",
      " [0.03555674]\n",
      " [0.99632632]\n",
      " [0.72419055]\n",
      " [0.39087839]\n",
      " [0.54262437]\n",
      " [0.31993359]\n",
      " [0.03122878]\n",
      " [0.31892908]\n",
      " [0.09786791]\n",
      " [0.43313787]\n",
      " [0.07882707]\n",
      " [0.43815549]\n",
      " [0.70941142]\n",
      " [0.72985802]\n",
      " [0.82991712]\n",
      " [0.8889078 ]\n",
      " [0.98576234]\n",
      " [0.44151471]\n",
      " [0.6296921 ]\n",
      " [0.26164228]\n",
      " [0.90104606]\n",
      " [0.43885242]\n",
      " [0.74802481]\n",
      " [0.41518756]\n",
      " [0.66702752]\n",
      " [0.07430002]\n",
      " [0.04517766]\n",
      " [0.97875867]\n",
      " [0.04076576]\n",
      " [0.89348946]\n",
      " [0.41173449]\n",
      " [0.82551411]\n",
      " [0.04533955]\n",
      " [0.47657886]\n",
      " [0.24107934]\n",
      " [0.11393173]]\n"
     ]
    }
   ],
   "source": [
    "x = np.random.rand(100 ,1)\n",
    "print(x)"
   ]
  }
 ],
 "metadata": {
  "kernelspec": {
   "display_name": "Python 3",
   "language": "python",
   "name": "python3"
  },
  "language_info": {
   "codemirror_mode": {
    "name": "ipython",
    "version": 3
   },
   "file_extension": ".py",
   "mimetype": "text/x-python",
   "name": "python",
   "nbconvert_exporter": "python",
   "pygments_lexer": "ipython3",
   "version": "3.10.12"
  }
 },
 "nbformat": 4,
 "nbformat_minor": 5
}
