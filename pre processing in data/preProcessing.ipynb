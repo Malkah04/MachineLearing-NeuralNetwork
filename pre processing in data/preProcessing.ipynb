{
 "cells": [
  {
   "cell_type": "markdown",
   "id": "e5870de2",
   "metadata": {},
   "source": [
    "# Feature Scalling"
   ]
  },
  {
   "cell_type": "code",
   "execution_count": 1,
   "id": "5bfc5074",
   "metadata": {},
   "outputs": [],
   "source": [
    "import pandas as pd\n",
    "import numpy as np"
   ]
  },
  {
   "cell_type": "code",
   "execution_count": 3,
   "id": "3b653b5b",
   "metadata": {},
   "outputs": [
    {
     "name": "stdout",
     "output_type": "stream",
     "text": [
      "origin data\n",
      "   feature1  feature2  feature3\n",
      "0        10       100      1000\n",
      "1        20       200      2000\n",
      "2        30       300      3000\n",
      "3        40       400      4000\n",
      "4        50       500      5000\n"
     ]
    }
   ],
   "source": [
    "data ={\n",
    "    'feature1':[10,20,30,40,50],\n",
    "    'feature2':[100,200,300,400,500],\n",
    "    'feature3':[1000,2000,3000,4000,5000]\n",
    "}\n",
    "\n",
    "df =pd.DataFrame(data)\n",
    "\n",
    "print(\"origin data\")\n",
    "print(df)"
   ]
  },
  {
   "cell_type": "code",
   "execution_count": 8,
   "id": "0c00cce3",
   "metadata": {},
   "outputs": [],
   "source": [
    "from sklearn.preprocessing import StandardScaler ,MinMaxScaler ,RobustScaler , Normalizer\n",
    "\n"
   ]
  },
  {
   "cell_type": "markdown",
   "id": "689f8cd9",
   "metadata": {},
   "source": [
    "# 1) Standard Scalling \n",
    "z = (x - mean )/ standerd , z -> in range -3 to 3"
   ]
  },
  {
   "cell_type": "code",
   "execution_count": 9,
   "id": "6400c7b8",
   "metadata": {},
   "outputs": [
    {
     "name": "stdout",
     "output_type": "stream",
     "text": [
      "   feature1  feature2  feature3\n",
      "0 -1.414214 -1.414214 -1.414214\n",
      "1 -0.707107 -0.707107 -0.707107\n",
      "2  0.000000  0.000000  0.000000\n",
      "3  0.707107  0.707107  0.707107\n",
      "4  1.414214  1.414214  1.414214\n"
     ]
    }
   ],
   "source": [
    "# z = (x - mean )/ standerd  z -> in range -3 to 3\n",
    "scale = StandardScaler()\n",
    "\n",
    "standrad_data =scale.fit_transform(df)\n",
    "\n",
    "df_standrad =pd.DataFrame(standrad_data ,columns= df.columns)\n",
    "\n",
    "print(df_standrad)\n",
    "\n",
    "\n"
   ]
  },
  {
   "cell_type": "markdown",
   "id": "4a7a2ec1",
   "metadata": {},
   "source": [
    "# 2) Min-max scale \n",
    " z = (x - x min) / (x max - x min) , z in range 0 to 1"
   ]
  },
  {
   "cell_type": "code",
   "execution_count": 10,
   "id": "9577441a",
   "metadata": {},
   "outputs": [
    {
     "name": "stdout",
     "output_type": "stream",
     "text": [
      "   feature1  feature2  feature3\n",
      "0      0.00      0.00      0.00\n",
      "1      0.25      0.25      0.25\n",
      "2      0.50      0.50      0.50\n",
      "3      0.75      0.75      0.75\n",
      "4      1.00      1.00      1.00\n"
     ]
    }
   ],
   "source": [
    "scale =MinMaxScaler()\n",
    "minMax_data= scale.fit_transform(df)\n",
    "df_minMax =pd.DataFrame(minMax_data , columns=df.columns)\n",
    "print(df_minMax)"
   ]
  },
  {
   "cell_type": "markdown",
   "id": "db8c86c0",
   "metadata": {},
   "source": [
    "# 3) RobustScaler \n",
    "z = (x -x median)/IQR(x) , z in range -1 to 1\n",
    "\n",
    "where \n",
    "IQR = Q3 -Q1 \n",
    "where Q1 IS THE FIRST quartier and\n",
    "Q3 IS THE THIRD quartier"
   ]
  },
  {
   "cell_type": "code",
   "execution_count": 11,
   "id": "4e1544b3",
   "metadata": {},
   "outputs": [
    {
     "name": "stdout",
     "output_type": "stream",
     "text": [
      "   feature1  feature2  feature3\n",
      "0      -1.0      -1.0      -1.0\n",
      "1      -0.5      -0.5      -0.5\n",
      "2       0.0       0.0       0.0\n",
      "3       0.5       0.5       0.5\n",
      "4       1.0       1.0       1.0\n"
     ]
    }
   ],
   "source": [
    "scale =RobustScaler()\n",
    "\n",
    "robust_data =scale.fit_transform(df)\n",
    "df_robust =pd.DataFrame(robust_data ,columns=df.columns)\n",
    "print(df_robust)"
   ]
  },
  {
   "cell_type": "markdown",
   "id": "9e5a91a7",
   "metadata": {},
   "source": [
    "# 4) Normalizer scale\n"
   ]
  },
  {
   "cell_type": "code",
   "execution_count": 13,
   "id": "c3a616d7",
   "metadata": {},
   "outputs": [
    {
     "name": "stdout",
     "output_type": "stream",
     "text": [
      "   feature1  feature2  feature3\n",
      "0   0.00995  0.099499  0.994988\n",
      "1   0.00995  0.099499  0.994988\n",
      "2   0.00995  0.099499  0.994988\n",
      "3   0.00995  0.099499  0.994988\n",
      "4   0.00995  0.099499  0.994988\n"
     ]
    }
   ],
   "source": [
    "scale =Normalizer()\n",
    "\n",
    "normalize_scale =scale.fit_transform(df)\n",
    "\n",
    "df_normalize= pd.DataFrame(normalize_scale ,columns= df.columns) \n",
    "print(df_normalize)"
   ]
  }
 ],
 "metadata": {
  "kernelspec": {
   "display_name": "Python 3",
   "language": "python",
   "name": "python3"
  },
  "language_info": {
   "codemirror_mode": {
    "name": "ipython",
    "version": 3
   },
   "file_extension": ".py",
   "mimetype": "text/x-python",
   "name": "python",
   "nbconvert_exporter": "python",
   "pygments_lexer": "ipython3",
   "version": "3.10.12"
  }
 },
 "nbformat": 4,
 "nbformat_minor": 5
}
